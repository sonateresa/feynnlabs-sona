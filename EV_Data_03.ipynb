{
  "nbformat": 4,
  "nbformat_minor": 0,
  "metadata": {
    "colab": {
      "provenance": []
    },
    "kernelspec": {
      "name": "python3",
      "display_name": "Python 3"
    },
    "language_info": {
      "name": "python"
    }
  },
  "cells": [
    {
      "cell_type": "code",
      "execution_count": null,
      "metadata": {
        "id": "shQHZpEsJNxs"
      },
      "outputs": [],
      "source": [
        "import numpy as np\n",
        "import pandas as pd\n",
        "import matplotlib.pyplot as plt\n",
        "import seaborn as sns"
      ]
    },
    {
      "cell_type": "code",
      "source": [
        "ev_data_3 = pd.read_csv('/content/EVData_03.csv')"
      ],
      "metadata": {
        "id": "NGwEFek8Jm1x"
      },
      "execution_count": null,
      "outputs": []
    },
    {
      "cell_type": "code",
      "source": [
        "ev_data_3.head()"
      ],
      "metadata": {
        "colab": {
          "base_uri": "https://localhost:8080/",
          "height": 258
        },
        "id": "elx8hAxJJy7u",
        "outputId": "f34862d6-b2ee-4ed1-a48a-35558f06cb51"
      },
      "execution_count": null,
      "outputs": [
        {
          "output_type": "execute_result",
          "data": {
            "text/plain": [
              "   Age       City Profession Marital Status Education  No. of Family members  \\\n",
              "0   30      Nabha       None         Single  Graduate                      5   \n",
              "1   27       Pune       None         Single  Graduate                      4   \n",
              "2   32  Kashipur        None         Single  Graduate                      4   \n",
              "3   55       Pune   Business         Single  Graduate                      3   \n",
              "4   26     Satara       None         Single  Graduate                      4   \n",
              "\n",
              "   Annual Income  \\\n",
              "0    1193875.647   \n",
              "1    1844540.398   \n",
              "2    2948150.113   \n",
              "3    2832379.739   \n",
              "4    2638750.576   \n",
              "\n",
              "  Would you prefer replacing all your vehicles to Electronic vehicles?  \\\n",
              "0                                              Maybe                     \n",
              "1                                                Yes                     \n",
              "2                                                Yes                     \n",
              "3                                              Maybe                     \n",
              "4                                                Yes                     \n",
              "\n",
              "  If Yes/Maybe what type of  EV would you prefer?  \\\n",
              "0                                             SUV   \n",
              "1                                             SUV   \n",
              "2                                       Hatchback   \n",
              "3                                       Hatchback   \n",
              "4                                           Sedan   \n",
              "\n",
              "  Do you think Electronic Vehicles are economical?  \\\n",
              "0                                              Yes   \n",
              "1                                              Yes   \n",
              "2                                              Yes   \n",
              "3                                               No   \n",
              "4                                              Yes   \n",
              "\n",
              "  Which brand of vehicle do you currently own?  \\\n",
              "0                                      Hyundai   \n",
              "1                                        Honda   \n",
              "2                                          KIA   \n",
              "3                                      Hyundai   \n",
              "4                                     McLaren    \n",
              "\n",
              "  How much money could you spend on an Electronic vehicle?  \\\n",
              "0                                           <5 lakhs         \n",
              "1                                          <15 lakhs         \n",
              "2                                          <15 lakhs         \n",
              "3                                           <5 lakhs         \n",
              "4                                          <15 lakhs         \n",
              "\n",
              "   Preference for wheels in EV  \\\n",
              "0                            2   \n",
              "1                            4   \n",
              "2                            4   \n",
              "3                            4   \n",
              "4                            4   \n",
              "\n",
              "  Do you think Electronic vehicles will replace fuel cars in India?  \n",
              "0                                   I don't think so                 \n",
              "1                                   Yes, in <20years                 \n",
              "2                                   Yes, in <20years                 \n",
              "3                                  Yes, in <10 years                 \n",
              "4                                   Yes, in <20years                 "
            ],
            "text/html": [
              "\n",
              "  <div id=\"df-91f36c28-8f82-4673-8a05-156fbb0c0115\" class=\"colab-df-container\">\n",
              "    <div>\n",
              "<style scoped>\n",
              "    .dataframe tbody tr th:only-of-type {\n",
              "        vertical-align: middle;\n",
              "    }\n",
              "\n",
              "    .dataframe tbody tr th {\n",
              "        vertical-align: top;\n",
              "    }\n",
              "\n",
              "    .dataframe thead th {\n",
              "        text-align: right;\n",
              "    }\n",
              "</style>\n",
              "<table border=\"1\" class=\"dataframe\">\n",
              "  <thead>\n",
              "    <tr style=\"text-align: right;\">\n",
              "      <th></th>\n",
              "      <th>Age</th>\n",
              "      <th>City</th>\n",
              "      <th>Profession</th>\n",
              "      <th>Marital Status</th>\n",
              "      <th>Education</th>\n",
              "      <th>No. of Family members</th>\n",
              "      <th>Annual Income</th>\n",
              "      <th>Would you prefer replacing all your vehicles to Electronic vehicles?</th>\n",
              "      <th>If Yes/Maybe what type of  EV would you prefer?</th>\n",
              "      <th>Do you think Electronic Vehicles are economical?</th>\n",
              "      <th>Which brand of vehicle do you currently own?</th>\n",
              "      <th>How much money could you spend on an Electronic vehicle?</th>\n",
              "      <th>Preference for wheels in EV</th>\n",
              "      <th>Do you think Electronic vehicles will replace fuel cars in India?</th>\n",
              "    </tr>\n",
              "  </thead>\n",
              "  <tbody>\n",
              "    <tr>\n",
              "      <th>0</th>\n",
              "      <td>30</td>\n",
              "      <td>Nabha</td>\n",
              "      <td>None</td>\n",
              "      <td>Single</td>\n",
              "      <td>Graduate</td>\n",
              "      <td>5</td>\n",
              "      <td>1193875.647</td>\n",
              "      <td>Maybe</td>\n",
              "      <td>SUV</td>\n",
              "      <td>Yes</td>\n",
              "      <td>Hyundai</td>\n",
              "      <td>&lt;5 lakhs</td>\n",
              "      <td>2</td>\n",
              "      <td>I don't think so</td>\n",
              "    </tr>\n",
              "    <tr>\n",
              "      <th>1</th>\n",
              "      <td>27</td>\n",
              "      <td>Pune</td>\n",
              "      <td>None</td>\n",
              "      <td>Single</td>\n",
              "      <td>Graduate</td>\n",
              "      <td>4</td>\n",
              "      <td>1844540.398</td>\n",
              "      <td>Yes</td>\n",
              "      <td>SUV</td>\n",
              "      <td>Yes</td>\n",
              "      <td>Honda</td>\n",
              "      <td>&lt;15 lakhs</td>\n",
              "      <td>4</td>\n",
              "      <td>Yes, in &lt;20years</td>\n",
              "    </tr>\n",
              "    <tr>\n",
              "      <th>2</th>\n",
              "      <td>32</td>\n",
              "      <td>Kashipur</td>\n",
              "      <td>None</td>\n",
              "      <td>Single</td>\n",
              "      <td>Graduate</td>\n",
              "      <td>4</td>\n",
              "      <td>2948150.113</td>\n",
              "      <td>Yes</td>\n",
              "      <td>Hatchback</td>\n",
              "      <td>Yes</td>\n",
              "      <td>KIA</td>\n",
              "      <td>&lt;15 lakhs</td>\n",
              "      <td>4</td>\n",
              "      <td>Yes, in &lt;20years</td>\n",
              "    </tr>\n",
              "    <tr>\n",
              "      <th>3</th>\n",
              "      <td>55</td>\n",
              "      <td>Pune</td>\n",
              "      <td>Business</td>\n",
              "      <td>Single</td>\n",
              "      <td>Graduate</td>\n",
              "      <td>3</td>\n",
              "      <td>2832379.739</td>\n",
              "      <td>Maybe</td>\n",
              "      <td>Hatchback</td>\n",
              "      <td>No</td>\n",
              "      <td>Hyundai</td>\n",
              "      <td>&lt;5 lakhs</td>\n",
              "      <td>4</td>\n",
              "      <td>Yes, in &lt;10 years</td>\n",
              "    </tr>\n",
              "    <tr>\n",
              "      <th>4</th>\n",
              "      <td>26</td>\n",
              "      <td>Satara</td>\n",
              "      <td>None</td>\n",
              "      <td>Single</td>\n",
              "      <td>Graduate</td>\n",
              "      <td>4</td>\n",
              "      <td>2638750.576</td>\n",
              "      <td>Yes</td>\n",
              "      <td>Sedan</td>\n",
              "      <td>Yes</td>\n",
              "      <td>McLaren</td>\n",
              "      <td>&lt;15 lakhs</td>\n",
              "      <td>4</td>\n",
              "      <td>Yes, in &lt;20years</td>\n",
              "    </tr>\n",
              "  </tbody>\n",
              "</table>\n",
              "</div>\n",
              "    <div class=\"colab-df-buttons\">\n",
              "\n",
              "  <div class=\"colab-df-container\">\n",
              "    <button class=\"colab-df-convert\" onclick=\"convertToInteractive('df-91f36c28-8f82-4673-8a05-156fbb0c0115')\"\n",
              "            title=\"Convert this dataframe to an interactive table.\"\n",
              "            style=\"display:none;\">\n",
              "\n",
              "  <svg xmlns=\"http://www.w3.org/2000/svg\" height=\"24px\" viewBox=\"0 -960 960 960\">\n",
              "    <path d=\"M120-120v-720h720v720H120Zm60-500h600v-160H180v160Zm220 220h160v-160H400v160Zm0 220h160v-160H400v160ZM180-400h160v-160H180v160Zm440 0h160v-160H620v160ZM180-180h160v-160H180v160Zm440 0h160v-160H620v160Z\"/>\n",
              "  </svg>\n",
              "    </button>\n",
              "\n",
              "  <style>\n",
              "    .colab-df-container {\n",
              "      display:flex;\n",
              "      gap: 12px;\n",
              "    }\n",
              "\n",
              "    .colab-df-convert {\n",
              "      background-color: #E8F0FE;\n",
              "      border: none;\n",
              "      border-radius: 50%;\n",
              "      cursor: pointer;\n",
              "      display: none;\n",
              "      fill: #1967D2;\n",
              "      height: 32px;\n",
              "      padding: 0 0 0 0;\n",
              "      width: 32px;\n",
              "    }\n",
              "\n",
              "    .colab-df-convert:hover {\n",
              "      background-color: #E2EBFA;\n",
              "      box-shadow: 0px 1px 2px rgba(60, 64, 67, 0.3), 0px 1px 3px 1px rgba(60, 64, 67, 0.15);\n",
              "      fill: #174EA6;\n",
              "    }\n",
              "\n",
              "    .colab-df-buttons div {\n",
              "      margin-bottom: 4px;\n",
              "    }\n",
              "\n",
              "    [theme=dark] .colab-df-convert {\n",
              "      background-color: #3B4455;\n",
              "      fill: #D2E3FC;\n",
              "    }\n",
              "\n",
              "    [theme=dark] .colab-df-convert:hover {\n",
              "      background-color: #434B5C;\n",
              "      box-shadow: 0px 1px 3px 1px rgba(0, 0, 0, 0.15);\n",
              "      filter: drop-shadow(0px 1px 2px rgba(0, 0, 0, 0.3));\n",
              "      fill: #FFFFFF;\n",
              "    }\n",
              "  </style>\n",
              "\n",
              "    <script>\n",
              "      const buttonEl =\n",
              "        document.querySelector('#df-91f36c28-8f82-4673-8a05-156fbb0c0115 button.colab-df-convert');\n",
              "      buttonEl.style.display =\n",
              "        google.colab.kernel.accessAllowed ? 'block' : 'none';\n",
              "\n",
              "      async function convertToInteractive(key) {\n",
              "        const element = document.querySelector('#df-91f36c28-8f82-4673-8a05-156fbb0c0115');\n",
              "        const dataTable =\n",
              "          await google.colab.kernel.invokeFunction('convertToInteractive',\n",
              "                                                    [key], {});\n",
              "        if (!dataTable) return;\n",
              "\n",
              "        const docLinkHtml = 'Like what you see? Visit the ' +\n",
              "          '<a target=\"_blank\" href=https://colab.research.google.com/notebooks/data_table.ipynb>data table notebook</a>'\n",
              "          + ' to learn more about interactive tables.';\n",
              "        element.innerHTML = '';\n",
              "        dataTable['output_type'] = 'display_data';\n",
              "        await google.colab.output.renderOutput(dataTable, element);\n",
              "        const docLink = document.createElement('div');\n",
              "        docLink.innerHTML = docLinkHtml;\n",
              "        element.appendChild(docLink);\n",
              "      }\n",
              "    </script>\n",
              "  </div>\n",
              "\n",
              "\n",
              "<div id=\"df-dce35a15-b340-42fc-a212-761339b18a3a\">\n",
              "  <button class=\"colab-df-quickchart\" onclick=\"quickchart('df-dce35a15-b340-42fc-a212-761339b18a3a')\"\n",
              "            title=\"Suggest charts\"\n",
              "            style=\"display:none;\">\n",
              "\n",
              "<svg xmlns=\"http://www.w3.org/2000/svg\" height=\"24px\"viewBox=\"0 0 24 24\"\n",
              "     width=\"24px\">\n",
              "    <g>\n",
              "        <path d=\"M19 3H5c-1.1 0-2 .9-2 2v14c0 1.1.9 2 2 2h14c1.1 0 2-.9 2-2V5c0-1.1-.9-2-2-2zM9 17H7v-7h2v7zm4 0h-2V7h2v10zm4 0h-2v-4h2v4z\"/>\n",
              "    </g>\n",
              "</svg>\n",
              "  </button>\n",
              "\n",
              "<style>\n",
              "  .colab-df-quickchart {\n",
              "      --bg-color: #E8F0FE;\n",
              "      --fill-color: #1967D2;\n",
              "      --hover-bg-color: #E2EBFA;\n",
              "      --hover-fill-color: #174EA6;\n",
              "      --disabled-fill-color: #AAA;\n",
              "      --disabled-bg-color: #DDD;\n",
              "  }\n",
              "\n",
              "  [theme=dark] .colab-df-quickchart {\n",
              "      --bg-color: #3B4455;\n",
              "      --fill-color: #D2E3FC;\n",
              "      --hover-bg-color: #434B5C;\n",
              "      --hover-fill-color: #FFFFFF;\n",
              "      --disabled-bg-color: #3B4455;\n",
              "      --disabled-fill-color: #666;\n",
              "  }\n",
              "\n",
              "  .colab-df-quickchart {\n",
              "    background-color: var(--bg-color);\n",
              "    border: none;\n",
              "    border-radius: 50%;\n",
              "    cursor: pointer;\n",
              "    display: none;\n",
              "    fill: var(--fill-color);\n",
              "    height: 32px;\n",
              "    padding: 0;\n",
              "    width: 32px;\n",
              "  }\n",
              "\n",
              "  .colab-df-quickchart:hover {\n",
              "    background-color: var(--hover-bg-color);\n",
              "    box-shadow: 0 1px 2px rgba(60, 64, 67, 0.3), 0 1px 3px 1px rgba(60, 64, 67, 0.15);\n",
              "    fill: var(--button-hover-fill-color);\n",
              "  }\n",
              "\n",
              "  .colab-df-quickchart-complete:disabled,\n",
              "  .colab-df-quickchart-complete:disabled:hover {\n",
              "    background-color: var(--disabled-bg-color);\n",
              "    fill: var(--disabled-fill-color);\n",
              "    box-shadow: none;\n",
              "  }\n",
              "\n",
              "  .colab-df-spinner {\n",
              "    border: 2px solid var(--fill-color);\n",
              "    border-color: transparent;\n",
              "    border-bottom-color: var(--fill-color);\n",
              "    animation:\n",
              "      spin 1s steps(1) infinite;\n",
              "  }\n",
              "\n",
              "  @keyframes spin {\n",
              "    0% {\n",
              "      border-color: transparent;\n",
              "      border-bottom-color: var(--fill-color);\n",
              "      border-left-color: var(--fill-color);\n",
              "    }\n",
              "    20% {\n",
              "      border-color: transparent;\n",
              "      border-left-color: var(--fill-color);\n",
              "      border-top-color: var(--fill-color);\n",
              "    }\n",
              "    30% {\n",
              "      border-color: transparent;\n",
              "      border-left-color: var(--fill-color);\n",
              "      border-top-color: var(--fill-color);\n",
              "      border-right-color: var(--fill-color);\n",
              "    }\n",
              "    40% {\n",
              "      border-color: transparent;\n",
              "      border-right-color: var(--fill-color);\n",
              "      border-top-color: var(--fill-color);\n",
              "    }\n",
              "    60% {\n",
              "      border-color: transparent;\n",
              "      border-right-color: var(--fill-color);\n",
              "    }\n",
              "    80% {\n",
              "      border-color: transparent;\n",
              "      border-right-color: var(--fill-color);\n",
              "      border-bottom-color: var(--fill-color);\n",
              "    }\n",
              "    90% {\n",
              "      border-color: transparent;\n",
              "      border-bottom-color: var(--fill-color);\n",
              "    }\n",
              "  }\n",
              "</style>\n",
              "\n",
              "  <script>\n",
              "    async function quickchart(key) {\n",
              "      const quickchartButtonEl =\n",
              "        document.querySelector('#' + key + ' button');\n",
              "      quickchartButtonEl.disabled = true;  // To prevent multiple clicks.\n",
              "      quickchartButtonEl.classList.add('colab-df-spinner');\n",
              "      try {\n",
              "        const charts = await google.colab.kernel.invokeFunction(\n",
              "            'suggestCharts', [key], {});\n",
              "      } catch (error) {\n",
              "        console.error('Error during call to suggestCharts:', error);\n",
              "      }\n",
              "      quickchartButtonEl.classList.remove('colab-df-spinner');\n",
              "      quickchartButtonEl.classList.add('colab-df-quickchart-complete');\n",
              "    }\n",
              "    (() => {\n",
              "      let quickchartButtonEl =\n",
              "        document.querySelector('#df-dce35a15-b340-42fc-a212-761339b18a3a button');\n",
              "      quickchartButtonEl.style.display =\n",
              "        google.colab.kernel.accessAllowed ? 'block' : 'none';\n",
              "    })();\n",
              "  </script>\n",
              "</div>\n",
              "\n",
              "    </div>\n",
              "  </div>\n"
            ]
          },
          "metadata": {},
          "execution_count": 3
        }
      ]
    },
    {
      "cell_type": "code",
      "source": [
        "ev_data_3.rename(columns={'No. of Family members': 'Family_Members'}, inplace=True)\n",
        "ev_data_3.rename(columns={'Annual Income': 'Income'}, inplace=True)\n",
        "ev_data_3.rename(columns={'Would you prefer replacing all your vehicles to Electronic vehicles?': 'Standard_To_EV'}, inplace=True)\n",
        "ev_data_3.rename(columns={'If Yes/Maybe what type of  EV would you prefer?': 'Type'}, inplace=True)\n",
        "ev_data_3.rename(columns={'Do you think Electronic Vehicles are economical?': 'Economical'}, inplace=True)\n",
        "ev_data_3.rename(columns={'Which brand of vehicle do you currently own?': 'Current_Brand'}, inplace=True)\n",
        "ev_data_3.rename(columns={'How much money could you spend on an Electronic vehicle?': 'Budget'}, inplace=True)\n",
        "ev_data_3.rename(columns={'Preference for wheels in EV': 'Wheels'}, inplace=True)\n",
        "ev_data_3.rename(columns={'Do you think Electronic vehicles will replace fuel cars in India?': 'Evolution_Of_EV'}, inplace=True)"
      ],
      "metadata": {
        "id": "JXcx09Q0J23D"
      },
      "execution_count": null,
      "outputs": []
    },
    {
      "cell_type": "code",
      "source": [
        "ev_data_3.head()"
      ],
      "metadata": {
        "colab": {
          "base_uri": "https://localhost:8080/",
          "height": 206
        },
        "id": "cabTtufDKjsi",
        "outputId": "1561a4fe-b134-4e0a-ac30-ed4443f40330"
      },
      "execution_count": null,
      "outputs": [
        {
          "output_type": "execute_result",
          "data": {
            "text/plain": [
              "   Age       City Profession Marital Status Education  Family_Members  \\\n",
              "0   30      Nabha       None         Single  Graduate               5   \n",
              "1   27       Pune       None         Single  Graduate               4   \n",
              "2   32  Kashipur        None         Single  Graduate               4   \n",
              "3   55       Pune   Business         Single  Graduate               3   \n",
              "4   26     Satara       None         Single  Graduate               4   \n",
              "\n",
              "        Income Standard_To_EV       Type Economical Current_Brand     Budget  \\\n",
              "0  1193875.647          Maybe        SUV        Yes       Hyundai   <5 lakhs   \n",
              "1  1844540.398            Yes        SUV        Yes         Honda  <15 lakhs   \n",
              "2  2948150.113            Yes  Hatchback        Yes           KIA  <15 lakhs   \n",
              "3  2832379.739          Maybe  Hatchback         No       Hyundai   <5 lakhs   \n",
              "4  2638750.576            Yes      Sedan        Yes      McLaren   <15 lakhs   \n",
              "\n",
              "   Wheels    Evolution_Of_EV  \n",
              "0       2   I don't think so  \n",
              "1       4   Yes, in <20years  \n",
              "2       4   Yes, in <20years  \n",
              "3       4  Yes, in <10 years  \n",
              "4       4   Yes, in <20years  "
            ],
            "text/html": [
              "\n",
              "  <div id=\"df-19868db8-e074-4368-b17e-9bf11421522d\" class=\"colab-df-container\">\n",
              "    <div>\n",
              "<style scoped>\n",
              "    .dataframe tbody tr th:only-of-type {\n",
              "        vertical-align: middle;\n",
              "    }\n",
              "\n",
              "    .dataframe tbody tr th {\n",
              "        vertical-align: top;\n",
              "    }\n",
              "\n",
              "    .dataframe thead th {\n",
              "        text-align: right;\n",
              "    }\n",
              "</style>\n",
              "<table border=\"1\" class=\"dataframe\">\n",
              "  <thead>\n",
              "    <tr style=\"text-align: right;\">\n",
              "      <th></th>\n",
              "      <th>Age</th>\n",
              "      <th>City</th>\n",
              "      <th>Profession</th>\n",
              "      <th>Marital Status</th>\n",
              "      <th>Education</th>\n",
              "      <th>Family_Members</th>\n",
              "      <th>Income</th>\n",
              "      <th>Standard_To_EV</th>\n",
              "      <th>Type</th>\n",
              "      <th>Economical</th>\n",
              "      <th>Current_Brand</th>\n",
              "      <th>Budget</th>\n",
              "      <th>Wheels</th>\n",
              "      <th>Evolution_Of_EV</th>\n",
              "    </tr>\n",
              "  </thead>\n",
              "  <tbody>\n",
              "    <tr>\n",
              "      <th>0</th>\n",
              "      <td>30</td>\n",
              "      <td>Nabha</td>\n",
              "      <td>None</td>\n",
              "      <td>Single</td>\n",
              "      <td>Graduate</td>\n",
              "      <td>5</td>\n",
              "      <td>1193875.647</td>\n",
              "      <td>Maybe</td>\n",
              "      <td>SUV</td>\n",
              "      <td>Yes</td>\n",
              "      <td>Hyundai</td>\n",
              "      <td>&lt;5 lakhs</td>\n",
              "      <td>2</td>\n",
              "      <td>I don't think so</td>\n",
              "    </tr>\n",
              "    <tr>\n",
              "      <th>1</th>\n",
              "      <td>27</td>\n",
              "      <td>Pune</td>\n",
              "      <td>None</td>\n",
              "      <td>Single</td>\n",
              "      <td>Graduate</td>\n",
              "      <td>4</td>\n",
              "      <td>1844540.398</td>\n",
              "      <td>Yes</td>\n",
              "      <td>SUV</td>\n",
              "      <td>Yes</td>\n",
              "      <td>Honda</td>\n",
              "      <td>&lt;15 lakhs</td>\n",
              "      <td>4</td>\n",
              "      <td>Yes, in &lt;20years</td>\n",
              "    </tr>\n",
              "    <tr>\n",
              "      <th>2</th>\n",
              "      <td>32</td>\n",
              "      <td>Kashipur</td>\n",
              "      <td>None</td>\n",
              "      <td>Single</td>\n",
              "      <td>Graduate</td>\n",
              "      <td>4</td>\n",
              "      <td>2948150.113</td>\n",
              "      <td>Yes</td>\n",
              "      <td>Hatchback</td>\n",
              "      <td>Yes</td>\n",
              "      <td>KIA</td>\n",
              "      <td>&lt;15 lakhs</td>\n",
              "      <td>4</td>\n",
              "      <td>Yes, in &lt;20years</td>\n",
              "    </tr>\n",
              "    <tr>\n",
              "      <th>3</th>\n",
              "      <td>55</td>\n",
              "      <td>Pune</td>\n",
              "      <td>Business</td>\n",
              "      <td>Single</td>\n",
              "      <td>Graduate</td>\n",
              "      <td>3</td>\n",
              "      <td>2832379.739</td>\n",
              "      <td>Maybe</td>\n",
              "      <td>Hatchback</td>\n",
              "      <td>No</td>\n",
              "      <td>Hyundai</td>\n",
              "      <td>&lt;5 lakhs</td>\n",
              "      <td>4</td>\n",
              "      <td>Yes, in &lt;10 years</td>\n",
              "    </tr>\n",
              "    <tr>\n",
              "      <th>4</th>\n",
              "      <td>26</td>\n",
              "      <td>Satara</td>\n",
              "      <td>None</td>\n",
              "      <td>Single</td>\n",
              "      <td>Graduate</td>\n",
              "      <td>4</td>\n",
              "      <td>2638750.576</td>\n",
              "      <td>Yes</td>\n",
              "      <td>Sedan</td>\n",
              "      <td>Yes</td>\n",
              "      <td>McLaren</td>\n",
              "      <td>&lt;15 lakhs</td>\n",
              "      <td>4</td>\n",
              "      <td>Yes, in &lt;20years</td>\n",
              "    </tr>\n",
              "  </tbody>\n",
              "</table>\n",
              "</div>\n",
              "    <div class=\"colab-df-buttons\">\n",
              "\n",
              "  <div class=\"colab-df-container\">\n",
              "    <button class=\"colab-df-convert\" onclick=\"convertToInteractive('df-19868db8-e074-4368-b17e-9bf11421522d')\"\n",
              "            title=\"Convert this dataframe to an interactive table.\"\n",
              "            style=\"display:none;\">\n",
              "\n",
              "  <svg xmlns=\"http://www.w3.org/2000/svg\" height=\"24px\" viewBox=\"0 -960 960 960\">\n",
              "    <path d=\"M120-120v-720h720v720H120Zm60-500h600v-160H180v160Zm220 220h160v-160H400v160Zm0 220h160v-160H400v160ZM180-400h160v-160H180v160Zm440 0h160v-160H620v160ZM180-180h160v-160H180v160Zm440 0h160v-160H620v160Z\"/>\n",
              "  </svg>\n",
              "    </button>\n",
              "\n",
              "  <style>\n",
              "    .colab-df-container {\n",
              "      display:flex;\n",
              "      gap: 12px;\n",
              "    }\n",
              "\n",
              "    .colab-df-convert {\n",
              "      background-color: #E8F0FE;\n",
              "      border: none;\n",
              "      border-radius: 50%;\n",
              "      cursor: pointer;\n",
              "      display: none;\n",
              "      fill: #1967D2;\n",
              "      height: 32px;\n",
              "      padding: 0 0 0 0;\n",
              "      width: 32px;\n",
              "    }\n",
              "\n",
              "    .colab-df-convert:hover {\n",
              "      background-color: #E2EBFA;\n",
              "      box-shadow: 0px 1px 2px rgba(60, 64, 67, 0.3), 0px 1px 3px 1px rgba(60, 64, 67, 0.15);\n",
              "      fill: #174EA6;\n",
              "    }\n",
              "\n",
              "    .colab-df-buttons div {\n",
              "      margin-bottom: 4px;\n",
              "    }\n",
              "\n",
              "    [theme=dark] .colab-df-convert {\n",
              "      background-color: #3B4455;\n",
              "      fill: #D2E3FC;\n",
              "    }\n",
              "\n",
              "    [theme=dark] .colab-df-convert:hover {\n",
              "      background-color: #434B5C;\n",
              "      box-shadow: 0px 1px 3px 1px rgba(0, 0, 0, 0.15);\n",
              "      filter: drop-shadow(0px 1px 2px rgba(0, 0, 0, 0.3));\n",
              "      fill: #FFFFFF;\n",
              "    }\n",
              "  </style>\n",
              "\n",
              "    <script>\n",
              "      const buttonEl =\n",
              "        document.querySelector('#df-19868db8-e074-4368-b17e-9bf11421522d button.colab-df-convert');\n",
              "      buttonEl.style.display =\n",
              "        google.colab.kernel.accessAllowed ? 'block' : 'none';\n",
              "\n",
              "      async function convertToInteractive(key) {\n",
              "        const element = document.querySelector('#df-19868db8-e074-4368-b17e-9bf11421522d');\n",
              "        const dataTable =\n",
              "          await google.colab.kernel.invokeFunction('convertToInteractive',\n",
              "                                                    [key], {});\n",
              "        if (!dataTable) return;\n",
              "\n",
              "        const docLinkHtml = 'Like what you see? Visit the ' +\n",
              "          '<a target=\"_blank\" href=https://colab.research.google.com/notebooks/data_table.ipynb>data table notebook</a>'\n",
              "          + ' to learn more about interactive tables.';\n",
              "        element.innerHTML = '';\n",
              "        dataTable['output_type'] = 'display_data';\n",
              "        await google.colab.output.renderOutput(dataTable, element);\n",
              "        const docLink = document.createElement('div');\n",
              "        docLink.innerHTML = docLinkHtml;\n",
              "        element.appendChild(docLink);\n",
              "      }\n",
              "    </script>\n",
              "  </div>\n",
              "\n",
              "\n",
              "<div id=\"df-ccc634cc-1870-4164-ae26-c2b3665013ee\">\n",
              "  <button class=\"colab-df-quickchart\" onclick=\"quickchart('df-ccc634cc-1870-4164-ae26-c2b3665013ee')\"\n",
              "            title=\"Suggest charts\"\n",
              "            style=\"display:none;\">\n",
              "\n",
              "<svg xmlns=\"http://www.w3.org/2000/svg\" height=\"24px\"viewBox=\"0 0 24 24\"\n",
              "     width=\"24px\">\n",
              "    <g>\n",
              "        <path d=\"M19 3H5c-1.1 0-2 .9-2 2v14c0 1.1.9 2 2 2h14c1.1 0 2-.9 2-2V5c0-1.1-.9-2-2-2zM9 17H7v-7h2v7zm4 0h-2V7h2v10zm4 0h-2v-4h2v4z\"/>\n",
              "    </g>\n",
              "</svg>\n",
              "  </button>\n",
              "\n",
              "<style>\n",
              "  .colab-df-quickchart {\n",
              "      --bg-color: #E8F0FE;\n",
              "      --fill-color: #1967D2;\n",
              "      --hover-bg-color: #E2EBFA;\n",
              "      --hover-fill-color: #174EA6;\n",
              "      --disabled-fill-color: #AAA;\n",
              "      --disabled-bg-color: #DDD;\n",
              "  }\n",
              "\n",
              "  [theme=dark] .colab-df-quickchart {\n",
              "      --bg-color: #3B4455;\n",
              "      --fill-color: #D2E3FC;\n",
              "      --hover-bg-color: #434B5C;\n",
              "      --hover-fill-color: #FFFFFF;\n",
              "      --disabled-bg-color: #3B4455;\n",
              "      --disabled-fill-color: #666;\n",
              "  }\n",
              "\n",
              "  .colab-df-quickchart {\n",
              "    background-color: var(--bg-color);\n",
              "    border: none;\n",
              "    border-radius: 50%;\n",
              "    cursor: pointer;\n",
              "    display: none;\n",
              "    fill: var(--fill-color);\n",
              "    height: 32px;\n",
              "    padding: 0;\n",
              "    width: 32px;\n",
              "  }\n",
              "\n",
              "  .colab-df-quickchart:hover {\n",
              "    background-color: var(--hover-bg-color);\n",
              "    box-shadow: 0 1px 2px rgba(60, 64, 67, 0.3), 0 1px 3px 1px rgba(60, 64, 67, 0.15);\n",
              "    fill: var(--button-hover-fill-color);\n",
              "  }\n",
              "\n",
              "  .colab-df-quickchart-complete:disabled,\n",
              "  .colab-df-quickchart-complete:disabled:hover {\n",
              "    background-color: var(--disabled-bg-color);\n",
              "    fill: var(--disabled-fill-color);\n",
              "    box-shadow: none;\n",
              "  }\n",
              "\n",
              "  .colab-df-spinner {\n",
              "    border: 2px solid var(--fill-color);\n",
              "    border-color: transparent;\n",
              "    border-bottom-color: var(--fill-color);\n",
              "    animation:\n",
              "      spin 1s steps(1) infinite;\n",
              "  }\n",
              "\n",
              "  @keyframes spin {\n",
              "    0% {\n",
              "      border-color: transparent;\n",
              "      border-bottom-color: var(--fill-color);\n",
              "      border-left-color: var(--fill-color);\n",
              "    }\n",
              "    20% {\n",
              "      border-color: transparent;\n",
              "      border-left-color: var(--fill-color);\n",
              "      border-top-color: var(--fill-color);\n",
              "    }\n",
              "    30% {\n",
              "      border-color: transparent;\n",
              "      border-left-color: var(--fill-color);\n",
              "      border-top-color: var(--fill-color);\n",
              "      border-right-color: var(--fill-color);\n",
              "    }\n",
              "    40% {\n",
              "      border-color: transparent;\n",
              "      border-right-color: var(--fill-color);\n",
              "      border-top-color: var(--fill-color);\n",
              "    }\n",
              "    60% {\n",
              "      border-color: transparent;\n",
              "      border-right-color: var(--fill-color);\n",
              "    }\n",
              "    80% {\n",
              "      border-color: transparent;\n",
              "      border-right-color: var(--fill-color);\n",
              "      border-bottom-color: var(--fill-color);\n",
              "    }\n",
              "    90% {\n",
              "      border-color: transparent;\n",
              "      border-bottom-color: var(--fill-color);\n",
              "    }\n",
              "  }\n",
              "</style>\n",
              "\n",
              "  <script>\n",
              "    async function quickchart(key) {\n",
              "      const quickchartButtonEl =\n",
              "        document.querySelector('#' + key + ' button');\n",
              "      quickchartButtonEl.disabled = true;  // To prevent multiple clicks.\n",
              "      quickchartButtonEl.classList.add('colab-df-spinner');\n",
              "      try {\n",
              "        const charts = await google.colab.kernel.invokeFunction(\n",
              "            'suggestCharts', [key], {});\n",
              "      } catch (error) {\n",
              "        console.error('Error during call to suggestCharts:', error);\n",
              "      }\n",
              "      quickchartButtonEl.classList.remove('colab-df-spinner');\n",
              "      quickchartButtonEl.classList.add('colab-df-quickchart-complete');\n",
              "    }\n",
              "    (() => {\n",
              "      let quickchartButtonEl =\n",
              "        document.querySelector('#df-ccc634cc-1870-4164-ae26-c2b3665013ee button');\n",
              "      quickchartButtonEl.style.display =\n",
              "        google.colab.kernel.accessAllowed ? 'block' : 'none';\n",
              "    })();\n",
              "  </script>\n",
              "</div>\n",
              "\n",
              "    </div>\n",
              "  </div>\n"
            ]
          },
          "metadata": {},
          "execution_count": 5
        }
      ]
    },
    {
      "cell_type": "code",
      "source": [
        "print('dimensions of ev_data_3: ', ev_data_3.shape)"
      ],
      "metadata": {
        "colab": {
          "base_uri": "https://localhost:8080/"
        },
        "id": "BPCIlim_Kkr5",
        "outputId": "6c5bc27b-136c-4993-cbe7-6680b54c99ae"
      },
      "execution_count": null,
      "outputs": [
        {
          "output_type": "stream",
          "name": "stdout",
          "text": [
            "dimensions of ev_data_3:  (1000, 14)\n"
          ]
        }
      ]
    },
    {
      "cell_type": "code",
      "source": [
        "ev_data_3.info()"
      ],
      "metadata": {
        "colab": {
          "base_uri": "https://localhost:8080/"
        },
        "id": "u1bEIswYM2tu",
        "outputId": "e8cb58fe-5528-437f-ce6d-5e4d9fccf5a4"
      },
      "execution_count": null,
      "outputs": [
        {
          "output_type": "stream",
          "name": "stdout",
          "text": [
            "<class 'pandas.core.frame.DataFrame'>\n",
            "RangeIndex: 1000 entries, 0 to 999\n",
            "Data columns (total 14 columns):\n",
            " #   Column           Non-Null Count  Dtype  \n",
            "---  ------           --------------  -----  \n",
            " 0   Age              1000 non-null   int64  \n",
            " 1   City             1000 non-null   object \n",
            " 2   Profession       1000 non-null   object \n",
            " 3   Marital Status   1000 non-null   object \n",
            " 4   Education        1000 non-null   object \n",
            " 5   Family_Members   1000 non-null   int64  \n",
            " 6   Income           1000 non-null   float64\n",
            " 7   Standard_To_EV   1000 non-null   object \n",
            " 8   Type             1000 non-null   object \n",
            " 9   Economical       1000 non-null   object \n",
            " 10  Current_Brand    1000 non-null   object \n",
            " 11  Budget           1000 non-null   object \n",
            " 12  Wheels           1000 non-null   int64  \n",
            " 13  Evolution_Of_EV  1000 non-null   object \n",
            "dtypes: float64(1), int64(3), object(10)\n",
            "memory usage: 109.5+ KB\n"
          ]
        }
      ]
    },
    {
      "cell_type": "code",
      "source": [
        "ev_data_3['Profession'].value_counts()"
      ],
      "metadata": {
        "colab": {
          "base_uri": "https://localhost:8080/"
        },
        "id": "98Gz9hFFM_71",
        "outputId": "fdd4f2cc-9e3b-4444-b3d1-c2c4c640722c"
      },
      "execution_count": null,
      "outputs": [
        {
          "output_type": "execute_result",
          "data": {
            "text/plain": [
              "None                    460\n",
              "Working Professional    336\n",
              "Business                167\n",
              "Salaried                 37\n",
              "Name: Profession, dtype: int64"
            ]
          },
          "metadata": {},
          "execution_count": 8
        }
      ]
    },
    {
      "cell_type": "code",
      "source": [
        "ev_data_3['Profession'] = ev_data_3['Profession'].fillna('Self Employed')"
      ],
      "metadata": {
        "id": "X31VTzUgNFQf"
      },
      "execution_count": null,
      "outputs": []
    },
    {
      "cell_type": "code",
      "source": [
        "ev_data_3.sample(20)"
      ],
      "metadata": {
        "colab": {
          "base_uri": "https://localhost:8080/",
          "height": 676
        },
        "id": "K4-Ol2NxNaBB",
        "outputId": "0b42d62e-2e97-4c01-d350-8f54926a2e56"
      },
      "execution_count": null,
      "outputs": [
        {
          "output_type": "execute_result",
          "data": {
            "text/plain": [
              "     Age       City            Profession Marital Status      Education  \\\n",
              "303   28       Pune              Business        Married  Post Graduate   \n",
              "312   69  Serampore                  None        Married  Post Graduate   \n",
              "25    28  Haldwani   Working Professional        Married  Post Graduate   \n",
              "419   24       Pune                  None         Single       Graduate   \n",
              "585   29       Pune                  None         Single       Graduate   \n",
              "240   30       pUNE              Salaried        Married       Graduate   \n",
              "937   30       Pune              Business         Single       Graduate   \n",
              "76    27       Pune              Business         Single  Post Graduate   \n",
              "96    30       Pune                  None         Single       Graduate   \n",
              "449   26      Delhi                  None         Single       Graduate   \n",
              "18    70     Satara                  None        Married       Graduate   \n",
              "572   29       Pune              Business        Married       Graduate   \n",
              "622   30       Pune                  None         Single       Graduate   \n",
              "2     32  Kashipur                   None         Single       Graduate   \n",
              "908   24       Pune                  None         Single  Post Graduate   \n",
              "797   29       Pune  Working Professional        Married       Graduate   \n",
              "807   15       Pune                  None         Single  Post Graduate   \n",
              "448   25       Pune                  None        Married       Graduate   \n",
              "542   29  Ahmedabad                  None         Single  Post Graduate   \n",
              "727   29     Delhi   Working Professional        Married  Post Graduate   \n",
              "\n",
              "     Family_Members       Income Standard_To_EV       Type Economical  \\\n",
              "303               3  2570908.610            Yes        SUV        Yes   \n",
              "312               5  1061559.396          Maybe   Liftback        Yes   \n",
              "25                3  2269262.459            Yes  Hatchback        Yes   \n",
              "419               4  3079928.866          Maybe        SUV        Yes   \n",
              "585               6  1999852.424             No        SUV        Yes   \n",
              "240               3  2214658.740            Yes        SUV        Yes   \n",
              "937               4  2616229.871             No   Liftback        Yes   \n",
              "76                4  2697513.047            Yes   Liftback        Yes   \n",
              "96                4  1197296.797            Yes        SUV        Yes   \n",
              "449               2  2964614.727            Yes        SUV        Yes   \n",
              "18                4  2465153.260            Yes        SUV        Yes   \n",
              "572               1  1391077.359          Maybe  Hatchback        Yes   \n",
              "622               5  3045775.423            Yes        SUV        Yes   \n",
              "2                 4  2948150.113            Yes  Hatchback        Yes   \n",
              "908               6  1509519.864            Yes     Cabrio        Yes   \n",
              "797               5  2736120.891          Maybe     Cabrio         No   \n",
              "807               4  2355658.785            Yes      Sedan        Yes   \n",
              "448               5  2963156.929            Yes  Hatchback        Yes   \n",
              "542               2  2998748.406            Yes        SUV        Yes   \n",
              "727               4  1940607.214          Maybe  Hatchback        Yes   \n",
              "\n",
              "    Current_Brand     Budget  Wheels               Evolution_Of_EV  \n",
              "303        Nissan  <15 lakhs       4              Yes, in <20years  \n",
              "312           KIA  <15 lakhs       3             Yes, in <10 years  \n",
              "25        Hyundai   <5 lakhs       4  Yes, possibly after 20 years  \n",
              "419    Volkswagen   <5 lakhs       4             Yes, in <10 years  \n",
              "585    Volkswagen   <5 lakhs       2              Yes, in <20years  \n",
              "240       Hyundai  <15 lakhs       4  Yes, possibly after 20 years  \n",
              "937            MG  <15 lakhs       2              I don't think so  \n",
              "76         Nissan  <15 lakhs       3              Yes, in <20years  \n",
              "96         Nissan  <15 lakhs       4              Yes, in <20years  \n",
              "449            MG    2000000       4             Yes, in <10 years  \n",
              "18            KIA  <25 lakhs       4              Yes, in <20years  \n",
              "572       Hyundai   <5 lakhs       2              Yes, in <20years  \n",
              "622          Tata     700000       4             Yes, in <10 years  \n",
              "2             KIA  <15 lakhs       4              Yes, in <20years  \n",
              "908          Tata  <15 lakhs       4             Yes, in <10 years  \n",
              "797            MG  >25 lakhs       4              Yes, in <20years  \n",
              "807           KIA     700000       4              Yes, in <20years  \n",
              "448       Hyundai   <5 lakhs       2             Yes, in <10 years  \n",
              "542          Tata  <15 lakhs       2             Yes, in <10 years  \n",
              "727      McLaren   <15 lakhs       4             Yes, in <10 years  "
            ],
            "text/html": [
              "\n",
              "  <div id=\"df-fde36335-6c2a-4f43-a9ee-1f1389d6c906\" class=\"colab-df-container\">\n",
              "    <div>\n",
              "<style scoped>\n",
              "    .dataframe tbody tr th:only-of-type {\n",
              "        vertical-align: middle;\n",
              "    }\n",
              "\n",
              "    .dataframe tbody tr th {\n",
              "        vertical-align: top;\n",
              "    }\n",
              "\n",
              "    .dataframe thead th {\n",
              "        text-align: right;\n",
              "    }\n",
              "</style>\n",
              "<table border=\"1\" class=\"dataframe\">\n",
              "  <thead>\n",
              "    <tr style=\"text-align: right;\">\n",
              "      <th></th>\n",
              "      <th>Age</th>\n",
              "      <th>City</th>\n",
              "      <th>Profession</th>\n",
              "      <th>Marital Status</th>\n",
              "      <th>Education</th>\n",
              "      <th>Family_Members</th>\n",
              "      <th>Income</th>\n",
              "      <th>Standard_To_EV</th>\n",
              "      <th>Type</th>\n",
              "      <th>Economical</th>\n",
              "      <th>Current_Brand</th>\n",
              "      <th>Budget</th>\n",
              "      <th>Wheels</th>\n",
              "      <th>Evolution_Of_EV</th>\n",
              "    </tr>\n",
              "  </thead>\n",
              "  <tbody>\n",
              "    <tr>\n",
              "      <th>303</th>\n",
              "      <td>28</td>\n",
              "      <td>Pune</td>\n",
              "      <td>Business</td>\n",
              "      <td>Married</td>\n",
              "      <td>Post Graduate</td>\n",
              "      <td>3</td>\n",
              "      <td>2570908.610</td>\n",
              "      <td>Yes</td>\n",
              "      <td>SUV</td>\n",
              "      <td>Yes</td>\n",
              "      <td>Nissan</td>\n",
              "      <td>&lt;15 lakhs</td>\n",
              "      <td>4</td>\n",
              "      <td>Yes, in &lt;20years</td>\n",
              "    </tr>\n",
              "    <tr>\n",
              "      <th>312</th>\n",
              "      <td>69</td>\n",
              "      <td>Serampore</td>\n",
              "      <td>None</td>\n",
              "      <td>Married</td>\n",
              "      <td>Post Graduate</td>\n",
              "      <td>5</td>\n",
              "      <td>1061559.396</td>\n",
              "      <td>Maybe</td>\n",
              "      <td>Liftback</td>\n",
              "      <td>Yes</td>\n",
              "      <td>KIA</td>\n",
              "      <td>&lt;15 lakhs</td>\n",
              "      <td>3</td>\n",
              "      <td>Yes, in &lt;10 years</td>\n",
              "    </tr>\n",
              "    <tr>\n",
              "      <th>25</th>\n",
              "      <td>28</td>\n",
              "      <td>Haldwani</td>\n",
              "      <td>Working Professional</td>\n",
              "      <td>Married</td>\n",
              "      <td>Post Graduate</td>\n",
              "      <td>3</td>\n",
              "      <td>2269262.459</td>\n",
              "      <td>Yes</td>\n",
              "      <td>Hatchback</td>\n",
              "      <td>Yes</td>\n",
              "      <td>Hyundai</td>\n",
              "      <td>&lt;5 lakhs</td>\n",
              "      <td>4</td>\n",
              "      <td>Yes, possibly after 20 years</td>\n",
              "    </tr>\n",
              "    <tr>\n",
              "      <th>419</th>\n",
              "      <td>24</td>\n",
              "      <td>Pune</td>\n",
              "      <td>None</td>\n",
              "      <td>Single</td>\n",
              "      <td>Graduate</td>\n",
              "      <td>4</td>\n",
              "      <td>3079928.866</td>\n",
              "      <td>Maybe</td>\n",
              "      <td>SUV</td>\n",
              "      <td>Yes</td>\n",
              "      <td>Volkswagen</td>\n",
              "      <td>&lt;5 lakhs</td>\n",
              "      <td>4</td>\n",
              "      <td>Yes, in &lt;10 years</td>\n",
              "    </tr>\n",
              "    <tr>\n",
              "      <th>585</th>\n",
              "      <td>29</td>\n",
              "      <td>Pune</td>\n",
              "      <td>None</td>\n",
              "      <td>Single</td>\n",
              "      <td>Graduate</td>\n",
              "      <td>6</td>\n",
              "      <td>1999852.424</td>\n",
              "      <td>No</td>\n",
              "      <td>SUV</td>\n",
              "      <td>Yes</td>\n",
              "      <td>Volkswagen</td>\n",
              "      <td>&lt;5 lakhs</td>\n",
              "      <td>2</td>\n",
              "      <td>Yes, in &lt;20years</td>\n",
              "    </tr>\n",
              "    <tr>\n",
              "      <th>240</th>\n",
              "      <td>30</td>\n",
              "      <td>pUNE</td>\n",
              "      <td>Salaried</td>\n",
              "      <td>Married</td>\n",
              "      <td>Graduate</td>\n",
              "      <td>3</td>\n",
              "      <td>2214658.740</td>\n",
              "      <td>Yes</td>\n",
              "      <td>SUV</td>\n",
              "      <td>Yes</td>\n",
              "      <td>Hyundai</td>\n",
              "      <td>&lt;15 lakhs</td>\n",
              "      <td>4</td>\n",
              "      <td>Yes, possibly after 20 years</td>\n",
              "    </tr>\n",
              "    <tr>\n",
              "      <th>937</th>\n",
              "      <td>30</td>\n",
              "      <td>Pune</td>\n",
              "      <td>Business</td>\n",
              "      <td>Single</td>\n",
              "      <td>Graduate</td>\n",
              "      <td>4</td>\n",
              "      <td>2616229.871</td>\n",
              "      <td>No</td>\n",
              "      <td>Liftback</td>\n",
              "      <td>Yes</td>\n",
              "      <td>MG</td>\n",
              "      <td>&lt;15 lakhs</td>\n",
              "      <td>2</td>\n",
              "      <td>I don't think so</td>\n",
              "    </tr>\n",
              "    <tr>\n",
              "      <th>76</th>\n",
              "      <td>27</td>\n",
              "      <td>Pune</td>\n",
              "      <td>Business</td>\n",
              "      <td>Single</td>\n",
              "      <td>Post Graduate</td>\n",
              "      <td>4</td>\n",
              "      <td>2697513.047</td>\n",
              "      <td>Yes</td>\n",
              "      <td>Liftback</td>\n",
              "      <td>Yes</td>\n",
              "      <td>Nissan</td>\n",
              "      <td>&lt;15 lakhs</td>\n",
              "      <td>3</td>\n",
              "      <td>Yes, in &lt;20years</td>\n",
              "    </tr>\n",
              "    <tr>\n",
              "      <th>96</th>\n",
              "      <td>30</td>\n",
              "      <td>Pune</td>\n",
              "      <td>None</td>\n",
              "      <td>Single</td>\n",
              "      <td>Graduate</td>\n",
              "      <td>4</td>\n",
              "      <td>1197296.797</td>\n",
              "      <td>Yes</td>\n",
              "      <td>SUV</td>\n",
              "      <td>Yes</td>\n",
              "      <td>Nissan</td>\n",
              "      <td>&lt;15 lakhs</td>\n",
              "      <td>4</td>\n",
              "      <td>Yes, in &lt;20years</td>\n",
              "    </tr>\n",
              "    <tr>\n",
              "      <th>449</th>\n",
              "      <td>26</td>\n",
              "      <td>Delhi</td>\n",
              "      <td>None</td>\n",
              "      <td>Single</td>\n",
              "      <td>Graduate</td>\n",
              "      <td>2</td>\n",
              "      <td>2964614.727</td>\n",
              "      <td>Yes</td>\n",
              "      <td>SUV</td>\n",
              "      <td>Yes</td>\n",
              "      <td>MG</td>\n",
              "      <td>2000000</td>\n",
              "      <td>4</td>\n",
              "      <td>Yes, in &lt;10 years</td>\n",
              "    </tr>\n",
              "    <tr>\n",
              "      <th>18</th>\n",
              "      <td>70</td>\n",
              "      <td>Satara</td>\n",
              "      <td>None</td>\n",
              "      <td>Married</td>\n",
              "      <td>Graduate</td>\n",
              "      <td>4</td>\n",
              "      <td>2465153.260</td>\n",
              "      <td>Yes</td>\n",
              "      <td>SUV</td>\n",
              "      <td>Yes</td>\n",
              "      <td>KIA</td>\n",
              "      <td>&lt;25 lakhs</td>\n",
              "      <td>4</td>\n",
              "      <td>Yes, in &lt;20years</td>\n",
              "    </tr>\n",
              "    <tr>\n",
              "      <th>572</th>\n",
              "      <td>29</td>\n",
              "      <td>Pune</td>\n",
              "      <td>Business</td>\n",
              "      <td>Married</td>\n",
              "      <td>Graduate</td>\n",
              "      <td>1</td>\n",
              "      <td>1391077.359</td>\n",
              "      <td>Maybe</td>\n",
              "      <td>Hatchback</td>\n",
              "      <td>Yes</td>\n",
              "      <td>Hyundai</td>\n",
              "      <td>&lt;5 lakhs</td>\n",
              "      <td>2</td>\n",
              "      <td>Yes, in &lt;20years</td>\n",
              "    </tr>\n",
              "    <tr>\n",
              "      <th>622</th>\n",
              "      <td>30</td>\n",
              "      <td>Pune</td>\n",
              "      <td>None</td>\n",
              "      <td>Single</td>\n",
              "      <td>Graduate</td>\n",
              "      <td>5</td>\n",
              "      <td>3045775.423</td>\n",
              "      <td>Yes</td>\n",
              "      <td>SUV</td>\n",
              "      <td>Yes</td>\n",
              "      <td>Tata</td>\n",
              "      <td>700000</td>\n",
              "      <td>4</td>\n",
              "      <td>Yes, in &lt;10 years</td>\n",
              "    </tr>\n",
              "    <tr>\n",
              "      <th>2</th>\n",
              "      <td>32</td>\n",
              "      <td>Kashipur</td>\n",
              "      <td>None</td>\n",
              "      <td>Single</td>\n",
              "      <td>Graduate</td>\n",
              "      <td>4</td>\n",
              "      <td>2948150.113</td>\n",
              "      <td>Yes</td>\n",
              "      <td>Hatchback</td>\n",
              "      <td>Yes</td>\n",
              "      <td>KIA</td>\n",
              "      <td>&lt;15 lakhs</td>\n",
              "      <td>4</td>\n",
              "      <td>Yes, in &lt;20years</td>\n",
              "    </tr>\n",
              "    <tr>\n",
              "      <th>908</th>\n",
              "      <td>24</td>\n",
              "      <td>Pune</td>\n",
              "      <td>None</td>\n",
              "      <td>Single</td>\n",
              "      <td>Post Graduate</td>\n",
              "      <td>6</td>\n",
              "      <td>1509519.864</td>\n",
              "      <td>Yes</td>\n",
              "      <td>Cabrio</td>\n",
              "      <td>Yes</td>\n",
              "      <td>Tata</td>\n",
              "      <td>&lt;15 lakhs</td>\n",
              "      <td>4</td>\n",
              "      <td>Yes, in &lt;10 years</td>\n",
              "    </tr>\n",
              "    <tr>\n",
              "      <th>797</th>\n",
              "      <td>29</td>\n",
              "      <td>Pune</td>\n",
              "      <td>Working Professional</td>\n",
              "      <td>Married</td>\n",
              "      <td>Graduate</td>\n",
              "      <td>5</td>\n",
              "      <td>2736120.891</td>\n",
              "      <td>Maybe</td>\n",
              "      <td>Cabrio</td>\n",
              "      <td>No</td>\n",
              "      <td>MG</td>\n",
              "      <td>&gt;25 lakhs</td>\n",
              "      <td>4</td>\n",
              "      <td>Yes, in &lt;20years</td>\n",
              "    </tr>\n",
              "    <tr>\n",
              "      <th>807</th>\n",
              "      <td>15</td>\n",
              "      <td>Pune</td>\n",
              "      <td>None</td>\n",
              "      <td>Single</td>\n",
              "      <td>Post Graduate</td>\n",
              "      <td>4</td>\n",
              "      <td>2355658.785</td>\n",
              "      <td>Yes</td>\n",
              "      <td>Sedan</td>\n",
              "      <td>Yes</td>\n",
              "      <td>KIA</td>\n",
              "      <td>700000</td>\n",
              "      <td>4</td>\n",
              "      <td>Yes, in &lt;20years</td>\n",
              "    </tr>\n",
              "    <tr>\n",
              "      <th>448</th>\n",
              "      <td>25</td>\n",
              "      <td>Pune</td>\n",
              "      <td>None</td>\n",
              "      <td>Married</td>\n",
              "      <td>Graduate</td>\n",
              "      <td>5</td>\n",
              "      <td>2963156.929</td>\n",
              "      <td>Yes</td>\n",
              "      <td>Hatchback</td>\n",
              "      <td>Yes</td>\n",
              "      <td>Hyundai</td>\n",
              "      <td>&lt;5 lakhs</td>\n",
              "      <td>2</td>\n",
              "      <td>Yes, in &lt;10 years</td>\n",
              "    </tr>\n",
              "    <tr>\n",
              "      <th>542</th>\n",
              "      <td>29</td>\n",
              "      <td>Ahmedabad</td>\n",
              "      <td>None</td>\n",
              "      <td>Single</td>\n",
              "      <td>Post Graduate</td>\n",
              "      <td>2</td>\n",
              "      <td>2998748.406</td>\n",
              "      <td>Yes</td>\n",
              "      <td>SUV</td>\n",
              "      <td>Yes</td>\n",
              "      <td>Tata</td>\n",
              "      <td>&lt;15 lakhs</td>\n",
              "      <td>2</td>\n",
              "      <td>Yes, in &lt;10 years</td>\n",
              "    </tr>\n",
              "    <tr>\n",
              "      <th>727</th>\n",
              "      <td>29</td>\n",
              "      <td>Delhi</td>\n",
              "      <td>Working Professional</td>\n",
              "      <td>Married</td>\n",
              "      <td>Post Graduate</td>\n",
              "      <td>4</td>\n",
              "      <td>1940607.214</td>\n",
              "      <td>Maybe</td>\n",
              "      <td>Hatchback</td>\n",
              "      <td>Yes</td>\n",
              "      <td>McLaren</td>\n",
              "      <td>&lt;15 lakhs</td>\n",
              "      <td>4</td>\n",
              "      <td>Yes, in &lt;10 years</td>\n",
              "    </tr>\n",
              "  </tbody>\n",
              "</table>\n",
              "</div>\n",
              "    <div class=\"colab-df-buttons\">\n",
              "\n",
              "  <div class=\"colab-df-container\">\n",
              "    <button class=\"colab-df-convert\" onclick=\"convertToInteractive('df-fde36335-6c2a-4f43-a9ee-1f1389d6c906')\"\n",
              "            title=\"Convert this dataframe to an interactive table.\"\n",
              "            style=\"display:none;\">\n",
              "\n",
              "  <svg xmlns=\"http://www.w3.org/2000/svg\" height=\"24px\" viewBox=\"0 -960 960 960\">\n",
              "    <path d=\"M120-120v-720h720v720H120Zm60-500h600v-160H180v160Zm220 220h160v-160H400v160Zm0 220h160v-160H400v160ZM180-400h160v-160H180v160Zm440 0h160v-160H620v160ZM180-180h160v-160H180v160Zm440 0h160v-160H620v160Z\"/>\n",
              "  </svg>\n",
              "    </button>\n",
              "\n",
              "  <style>\n",
              "    .colab-df-container {\n",
              "      display:flex;\n",
              "      gap: 12px;\n",
              "    }\n",
              "\n",
              "    .colab-df-convert {\n",
              "      background-color: #E8F0FE;\n",
              "      border: none;\n",
              "      border-radius: 50%;\n",
              "      cursor: pointer;\n",
              "      display: none;\n",
              "      fill: #1967D2;\n",
              "      height: 32px;\n",
              "      padding: 0 0 0 0;\n",
              "      width: 32px;\n",
              "    }\n",
              "\n",
              "    .colab-df-convert:hover {\n",
              "      background-color: #E2EBFA;\n",
              "      box-shadow: 0px 1px 2px rgba(60, 64, 67, 0.3), 0px 1px 3px 1px rgba(60, 64, 67, 0.15);\n",
              "      fill: #174EA6;\n",
              "    }\n",
              "\n",
              "    .colab-df-buttons div {\n",
              "      margin-bottom: 4px;\n",
              "    }\n",
              "\n",
              "    [theme=dark] .colab-df-convert {\n",
              "      background-color: #3B4455;\n",
              "      fill: #D2E3FC;\n",
              "    }\n",
              "\n",
              "    [theme=dark] .colab-df-convert:hover {\n",
              "      background-color: #434B5C;\n",
              "      box-shadow: 0px 1px 3px 1px rgba(0, 0, 0, 0.15);\n",
              "      filter: drop-shadow(0px 1px 2px rgba(0, 0, 0, 0.3));\n",
              "      fill: #FFFFFF;\n",
              "    }\n",
              "  </style>\n",
              "\n",
              "    <script>\n",
              "      const buttonEl =\n",
              "        document.querySelector('#df-fde36335-6c2a-4f43-a9ee-1f1389d6c906 button.colab-df-convert');\n",
              "      buttonEl.style.display =\n",
              "        google.colab.kernel.accessAllowed ? 'block' : 'none';\n",
              "\n",
              "      async function convertToInteractive(key) {\n",
              "        const element = document.querySelector('#df-fde36335-6c2a-4f43-a9ee-1f1389d6c906');\n",
              "        const dataTable =\n",
              "          await google.colab.kernel.invokeFunction('convertToInteractive',\n",
              "                                                    [key], {});\n",
              "        if (!dataTable) return;\n",
              "\n",
              "        const docLinkHtml = 'Like what you see? Visit the ' +\n",
              "          '<a target=\"_blank\" href=https://colab.research.google.com/notebooks/data_table.ipynb>data table notebook</a>'\n",
              "          + ' to learn more about interactive tables.';\n",
              "        element.innerHTML = '';\n",
              "        dataTable['output_type'] = 'display_data';\n",
              "        await google.colab.output.renderOutput(dataTable, element);\n",
              "        const docLink = document.createElement('div');\n",
              "        docLink.innerHTML = docLinkHtml;\n",
              "        element.appendChild(docLink);\n",
              "      }\n",
              "    </script>\n",
              "  </div>\n",
              "\n",
              "\n",
              "<div id=\"df-bdd518df-7ecf-4924-ac23-c65cc04f25c0\">\n",
              "  <button class=\"colab-df-quickchart\" onclick=\"quickchart('df-bdd518df-7ecf-4924-ac23-c65cc04f25c0')\"\n",
              "            title=\"Suggest charts\"\n",
              "            style=\"display:none;\">\n",
              "\n",
              "<svg xmlns=\"http://www.w3.org/2000/svg\" height=\"24px\"viewBox=\"0 0 24 24\"\n",
              "     width=\"24px\">\n",
              "    <g>\n",
              "        <path d=\"M19 3H5c-1.1 0-2 .9-2 2v14c0 1.1.9 2 2 2h14c1.1 0 2-.9 2-2V5c0-1.1-.9-2-2-2zM9 17H7v-7h2v7zm4 0h-2V7h2v10zm4 0h-2v-4h2v4z\"/>\n",
              "    </g>\n",
              "</svg>\n",
              "  </button>\n",
              "\n",
              "<style>\n",
              "  .colab-df-quickchart {\n",
              "      --bg-color: #E8F0FE;\n",
              "      --fill-color: #1967D2;\n",
              "      --hover-bg-color: #E2EBFA;\n",
              "      --hover-fill-color: #174EA6;\n",
              "      --disabled-fill-color: #AAA;\n",
              "      --disabled-bg-color: #DDD;\n",
              "  }\n",
              "\n",
              "  [theme=dark] .colab-df-quickchart {\n",
              "      --bg-color: #3B4455;\n",
              "      --fill-color: #D2E3FC;\n",
              "      --hover-bg-color: #434B5C;\n",
              "      --hover-fill-color: #FFFFFF;\n",
              "      --disabled-bg-color: #3B4455;\n",
              "      --disabled-fill-color: #666;\n",
              "  }\n",
              "\n",
              "  .colab-df-quickchart {\n",
              "    background-color: var(--bg-color);\n",
              "    border: none;\n",
              "    border-radius: 50%;\n",
              "    cursor: pointer;\n",
              "    display: none;\n",
              "    fill: var(--fill-color);\n",
              "    height: 32px;\n",
              "    padding: 0;\n",
              "    width: 32px;\n",
              "  }\n",
              "\n",
              "  .colab-df-quickchart:hover {\n",
              "    background-color: var(--hover-bg-color);\n",
              "    box-shadow: 0 1px 2px rgba(60, 64, 67, 0.3), 0 1px 3px 1px rgba(60, 64, 67, 0.15);\n",
              "    fill: var(--button-hover-fill-color);\n",
              "  }\n",
              "\n",
              "  .colab-df-quickchart-complete:disabled,\n",
              "  .colab-df-quickchart-complete:disabled:hover {\n",
              "    background-color: var(--disabled-bg-color);\n",
              "    fill: var(--disabled-fill-color);\n",
              "    box-shadow: none;\n",
              "  }\n",
              "\n",
              "  .colab-df-spinner {\n",
              "    border: 2px solid var(--fill-color);\n",
              "    border-color: transparent;\n",
              "    border-bottom-color: var(--fill-color);\n",
              "    animation:\n",
              "      spin 1s steps(1) infinite;\n",
              "  }\n",
              "\n",
              "  @keyframes spin {\n",
              "    0% {\n",
              "      border-color: transparent;\n",
              "      border-bottom-color: var(--fill-color);\n",
              "      border-left-color: var(--fill-color);\n",
              "    }\n",
              "    20% {\n",
              "      border-color: transparent;\n",
              "      border-left-color: var(--fill-color);\n",
              "      border-top-color: var(--fill-color);\n",
              "    }\n",
              "    30% {\n",
              "      border-color: transparent;\n",
              "      border-left-color: var(--fill-color);\n",
              "      border-top-color: var(--fill-color);\n",
              "      border-right-color: var(--fill-color);\n",
              "    }\n",
              "    40% {\n",
              "      border-color: transparent;\n",
              "      border-right-color: var(--fill-color);\n",
              "      border-top-color: var(--fill-color);\n",
              "    }\n",
              "    60% {\n",
              "      border-color: transparent;\n",
              "      border-right-color: var(--fill-color);\n",
              "    }\n",
              "    80% {\n",
              "      border-color: transparent;\n",
              "      border-right-color: var(--fill-color);\n",
              "      border-bottom-color: var(--fill-color);\n",
              "    }\n",
              "    90% {\n",
              "      border-color: transparent;\n",
              "      border-bottom-color: var(--fill-color);\n",
              "    }\n",
              "  }\n",
              "</style>\n",
              "\n",
              "  <script>\n",
              "    async function quickchart(key) {\n",
              "      const quickchartButtonEl =\n",
              "        document.querySelector('#' + key + ' button');\n",
              "      quickchartButtonEl.disabled = true;  // To prevent multiple clicks.\n",
              "      quickchartButtonEl.classList.add('colab-df-spinner');\n",
              "      try {\n",
              "        const charts = await google.colab.kernel.invokeFunction(\n",
              "            'suggestCharts', [key], {});\n",
              "      } catch (error) {\n",
              "        console.error('Error during call to suggestCharts:', error);\n",
              "      }\n",
              "      quickchartButtonEl.classList.remove('colab-df-spinner');\n",
              "      quickchartButtonEl.classList.add('colab-df-quickchart-complete');\n",
              "    }\n",
              "    (() => {\n",
              "      let quickchartButtonEl =\n",
              "        document.querySelector('#df-bdd518df-7ecf-4924-ac23-c65cc04f25c0 button');\n",
              "      quickchartButtonEl.style.display =\n",
              "        google.colab.kernel.accessAllowed ? 'block' : 'none';\n",
              "    })();\n",
              "  </script>\n",
              "</div>\n",
              "\n",
              "    </div>\n",
              "  </div>\n"
            ]
          },
          "metadata": {},
          "execution_count": 10
        }
      ]
    },
    {
      "cell_type": "code",
      "source": [
        "sns.countplot(y=ev_data_3['Profession'], order=ev_data_3['Profession'].value_counts().index, palette=\"viridis\")"
      ],
      "metadata": {
        "colab": {
          "base_uri": "https://localhost:8080/",
          "height": 553
        },
        "id": "gTgHpCLGNty9",
        "outputId": "8ffa62e0-c420-464c-f454-9e4e0b35de86"
      },
      "execution_count": null,
      "outputs": [
        {
          "output_type": "stream",
          "name": "stderr",
          "text": [
            "<ipython-input-12-9409d6cb8b77>:1: FutureWarning: \n",
            "\n",
            "Passing `palette` without assigning `hue` is deprecated and will be removed in v0.14.0. Assign the `y` variable to `hue` and set `legend=False` for the same effect.\n",
            "\n",
            "  sns.countplot(y=ev_data_3['Profession'], order=ev_data_3['Profession'].value_counts().index, palette=\"viridis\")\n"
          ]
        },
        {
          "output_type": "execute_result",
          "data": {
            "text/plain": [
              "<Axes: xlabel='count', ylabel='Profession'>"
            ]
          },
          "metadata": {},
          "execution_count": 12
        },
        {
          "output_type": "display_data",
          "data": {
            "text/plain": [
              "<Figure size 640x480 with 1 Axes>"
            ],
            "image/png": "[encoded data removed]"
          },
          "metadata": {}
        }
      ]
    },
    {
      "cell_type": "code",
      "source": [
        "plt.figure(figsize=(10, 8))\n",
        "sns.countplot(y=ev_data_3['City'], order=ev_data_3['City'].value_counts().index, palette=\"viridis\")"
      ],
      "metadata": {
        "colab": {
          "base_uri": "https://localhost:8080/",
          "height": 800
        },
        "id": "8hhhZgHMN1jL",
        "outputId": "23251b0c-ea31-4f29-a4b4-2c03e62670f0"
      },
      "execution_count": null,
      "outputs": [
        {
          "output_type": "stream",
          "name": "stderr",
          "text": [
            "<ipython-input-14-8304889c2436>:2: FutureWarning: \n",
            "\n",
            "Passing `palette` without assigning `hue` is deprecated and will be removed in v0.14.0. Assign the `y` variable to `hue` and set `legend=False` for the same effect.\n",
            "\n",
            "  sns.countplot(y=ev_data_3['City'], order=ev_data_3['City'].value_counts().index, palette=\"viridis\")\n"
          ]
        },
        {
          "output_type": "execute_result",
          "data": {
            "text/plain": [
              "<Axes: xlabel='count', ylabel='City'>"
            ]
          },
          "metadata": {},
          "execution_count": 14
        },
        {
          "output_type": "display_data",
          "data": {
            "text/plain": [
              "<Figure size 1000x800 with 1 Axes>"
            ],
            "image/png": "[encoded data removed]"
          },
          "metadata": {}
        }
      ]
    },
    {
      "cell_type": "code",
      "source": [
        "sns.countplot(y=ev_data_3['Type'], order=ev_data_3['Type'].value_counts().index, palette=\"viridis\")"
      ],
      "metadata": {
        "colab": {
          "base_uri": "https://localhost:8080/",
          "height": 553
        },
        "id": "BJcqd06QPrBE",
        "outputId": "3218d5d4-975b-4214-c56e-13949bf31d8f"
      },
      "execution_count": null,
      "outputs": [
        {
          "output_type": "stream",
          "name": "stderr",
          "text": [
            "<ipython-input-16-ddd84dd08022>:1: FutureWarning: \n",
            "\n",
            "Passing `palette` without assigning `hue` is deprecated and will be removed in v0.14.0. Assign the `y` variable to `hue` and set `legend=False` for the same effect.\n",
            "\n",
            "  sns.countplot(y=ev_data_3['Type'], order=ev_data_3['Type'].value_counts().index, palette=\"viridis\")\n"
          ]
        },
        {
          "output_type": "execute_result",
          "data": {
            "text/plain": [
              "<Axes: xlabel='count', ylabel='Type'>"
            ]
          },
          "metadata": {},
          "execution_count": 16
        },
        {
          "output_type": "display_data",
          "data": {
            "text/plain": [
              "<Figure size 640x480 with 1 Axes>"
            ],
            "image/png": "[encoded data removed]"
          },
          "metadata": {}
        }
      ]
    },
    {
      "cell_type": "code",
      "source": [
        "average_prices = ev_data_3.groupby('Profession')['Income'].mean().reset_index()\n",
        "sns.barplot(x='Income', y='Profession', data=average_prices, orient='h', palette=\"viridis\")"
      ],
      "metadata": {
        "colab": {
          "base_uri": "https://localhost:8080/",
          "height": 553
        },
        "id": "zfJeUwTMQI0m",
        "outputId": "b1aa13f5-7d6b-4daa-afd1-41e1a0e1c7ca"
      },
      "execution_count": null,
      "outputs": [
        {
          "output_type": "stream",
          "name": "stderr",
          "text": [
            "<ipython-input-18-c1b822d14dfb>:2: FutureWarning: \n",
            "\n",
            "Passing `palette` without assigning `hue` is deprecated and will be removed in v0.14.0. Assign the `y` variable to `hue` and set `legend=False` for the same effect.\n",
            "\n",
            "  sns.barplot(x='Income', y='Profession', data=average_prices, orient='h', palette=\"viridis\")\n"
          ]
        },
        {
          "output_type": "execute_result",
          "data": {
            "text/plain": [
              "<Axes: xlabel='Income', ylabel='Profession'>"
            ]
          },
          "metadata": {},
          "execution_count": 18
        },
        {
          "output_type": "display_data",
          "data": {
            "text/plain": [
              "<Figure size 640x480 with 1 Axes>"
            ],
            "image/png": "[encoded data removed]"
          },
          "metadata": {}
        }
      ]
    },
    {
      "cell_type": "code",
      "source": [
        "sns.countplot(y=ev_data_3['Budget'], order=ev_data_3['Budget'].value_counts().index, palette=\"viridis\")"
      ],
      "metadata": {
        "colab": {
          "base_uri": "https://localhost:8080/",
          "height": 553
        },
        "id": "fLv6CI6wQ3Kc",
        "outputId": "f0556fd1-0753-435a-d0bc-6887aaad8f51"
      },
      "execution_count": null,
      "outputs": [
        {
          "output_type": "stream",
          "name": "stderr",
          "text": [
            "<ipython-input-20-0cf0d16ea1cd>:1: FutureWarning: \n",
            "\n",
            "Passing `palette` without assigning `hue` is deprecated and will be removed in v0.14.0. Assign the `y` variable to `hue` and set `legend=False` for the same effect.\n",
            "\n",
            "  sns.countplot(y=ev_data_3['Budget'], order=ev_data_3['Budget'].value_counts().index, palette=\"viridis\")\n"
          ]
        },
        {
          "output_type": "execute_result",
          "data": {
            "text/plain": [
              "<Axes: xlabel='count', ylabel='Budget'>"
            ]
          },
          "metadata": {},
          "execution_count": 20
        },
        {
          "output_type": "display_data",
          "data": {
            "text/plain": [
              "<Figure size 640x480 with 1 Axes>"
            ],
            "image/png": "[encoded data removed]"
          },
          "metadata": {}
        }
      ]
    },
    {
      "cell_type": "code",
      "source": [
        "sns.countplot(x=ev_data_3['Wheels'], order=ev_data_3['Wheels'].value_counts().index, palette=\"viridis\")"
      ],
      "metadata": {
        "colab": {
          "base_uri": "https://localhost:8080/",
          "height": 553
        },
        "id": "X-fjr9RqRZEp",
        "outputId": "e8cc6b53-23d5-46dc-9814-c93f58258e03"
      },
      "execution_count": null,
      "outputs": [
        {
          "output_type": "stream",
          "name": "stderr",
          "text": [
            "<ipython-input-23-205200d06134>:1: FutureWarning: \n",
            "\n",
            "Passing `palette` without assigning `hue` is deprecated and will be removed in v0.14.0. Assign the `x` variable to `hue` and set `legend=False` for the same effect.\n",
            "\n",
            "  sns.countplot(x=ev_data_3['Wheels'], order=ev_data_3['Wheels'].value_counts().index, palette=\"viridis\")\n"
          ]
        },
        {
          "output_type": "execute_result",
          "data": {
            "text/plain": [
              "<Axes: xlabel='Wheels', ylabel='count'>"
            ]
          },
          "metadata": {},
          "execution_count": 23
        },
        {
          "output_type": "display_data",
          "data": {
            "text/plain": [
              "<Figure size 640x480 with 1 Axes>"
            ],
            "image/png": "[encoded data removed]"
          },
          "metadata": {}
        }
      ]
    },
    {
      "cell_type": "code",
      "source": [
        "sns.countplot(y=ev_data_3['Evolution_Of_EV'], order=ev_data_3['Evolution_Of_EV'].value_counts().index)"
      ],
      "metadata": {
        "colab": {
          "base_uri": "https://localhost:8080/",
          "height": 466
        },
        "id": "NaOY5zTFReyu",
        "outputId": "1a17f6d9-d9a8-4b09-8709-7b4fb708ecaf"
      },
      "execution_count": null,
      "outputs": [
        {
          "output_type": "execute_result",
          "data": {
            "text/plain": [
              "<Axes: xlabel='count', ylabel='Evolution_Of_EV'>"
            ]
          },
          "metadata": {},
          "execution_count": 24
        },
        {
          "output_type": "display_data",
          "data": {
            "text/plain": [
              "<Figure size 640x480 with 1 Axes>"
            ],
            "image/png": "[encoded data removed]"
          },
          "metadata": {}
        }
      ]
    },
    {
      "cell_type": "code",
      "source": [
        "sns.countplot(x=ev_data_3['Economical'], order=ev_data_3['Economical'].value_counts().index)"
      ],
      "metadata": {
        "colab": {
          "base_uri": "https://localhost:8080/",
          "height": 469
        },
        "id": "sty9BKwNWJs2",
        "outputId": "93e3a49e-6e8a-44b0-b779-3172ad611ecd"
      },
      "execution_count": null,
      "outputs": [
        {
          "output_type": "execute_result",
          "data": {
            "text/plain": [
              "<Axes: xlabel='Economical', ylabel='count'>"
            ]
          },
          "metadata": {},
          "execution_count": 25
        },
        {
          "output_type": "display_data",
          "data": {
            "text/plain": [
              "<Figure size 640x480 with 1 Axes>"
            ],
            "image/png": "[encoded data removed]"
          },
          "metadata": {}
        }
      ]
    },
    {
      "cell_type": "code",
      "source": [
        "sns.countplot(y=ev_data_3['Current_Brand'], order=ev_data_3['Current_Brand'].value_counts().index, palette=\"viridis\")"
      ],
      "metadata": {
        "colab": {
          "base_uri": "https://localhost:8080/",
          "height": 553
        },
        "id": "1cXTnkTjWcvg",
        "outputId": "b1a9e390-4733-4788-ef60-3494fffa23b4"
      },
      "execution_count": null,
      "outputs": [
        {
          "output_type": "stream",
          "name": "stderr",
          "text": [
            "<ipython-input-27-b36627fcbd3c>:1: FutureWarning: \n",
            "\n",
            "Passing `palette` without assigning `hue` is deprecated and will be removed in v0.14.0. Assign the `y` variable to `hue` and set `legend=False` for the same effect.\n",
            "\n",
            "  sns.countplot(y=ev_data_3['Current_Brand'], order=ev_data_3['Current_Brand'].value_counts().index, palette=\"viridis\")\n"
          ]
        },
        {
          "output_type": "execute_result",
          "data": {
            "text/plain": [
              "<Axes: xlabel='count', ylabel='Current_Brand'>"
            ]
          },
          "metadata": {},
          "execution_count": 27
        },
        {
          "output_type": "display_data",
          "data": {
            "text/plain": [
              "<Figure size 640x480 with 1 Axes>"
            ],
            "image/png": "[encoded data removed]"
          },
          "metadata": {}
        }
      ]
    },
    {
      "cell_type": "code",
      "source": [
        "ev_data_3.head()"
      ],
      "metadata": {
        "colab": {
          "base_uri": "https://localhost:8080/",
          "height": 206
        },
        "id": "XCC9lQMoWg8r",
        "outputId": "0b7ecb6c-e4fb-4711-b6b0-82b022509593"
      },
      "execution_count": null,
      "outputs": [
        {
          "output_type": "execute_result",
          "data": {
            "text/plain": [
              "   Age       City Profession Marital Status Education  Family_Members  \\\n",
              "0   30      Nabha       None         Single  Graduate               5   \n",
              "1   27       Pune       None         Single  Graduate               4   \n",
              "2   32  Kashipur        None         Single  Graduate               4   \n",
              "3   55       Pune   Business         Single  Graduate               3   \n",
              "4   26     Satara       None         Single  Graduate               4   \n",
              "\n",
              "        Income Standard_To_EV       Type Economical Current_Brand     Budget  \\\n",
              "0  1193875.647          Maybe        SUV        Yes       Hyundai   <5 lakhs   \n",
              "1  1844540.398            Yes        SUV        Yes         Honda  <15 lakhs   \n",
              "2  2948150.113            Yes  Hatchback        Yes           KIA  <15 lakhs   \n",
              "3  2832379.739          Maybe  Hatchback         No       Hyundai   <5 lakhs   \n",
              "4  2638750.576            Yes      Sedan        Yes      McLaren   <15 lakhs   \n",
              "\n",
              "   Wheels    Evolution_Of_EV  \n",
              "0       2   I don't think so  \n",
              "1       4   Yes, in <20years  \n",
              "2       4   Yes, in <20years  \n",
              "3       4  Yes, in <10 years  \n",
              "4       4   Yes, in <20years  "
            ],
            "text/html": [
              "\n",
              "  <div id=\"df-553e4ae0-5e3e-4baa-b4a5-ec8d149bfae5\" class=\"colab-df-container\">\n",
              "    <div>\n",
              "<style scoped>\n",
              "    .dataframe tbody tr th:only-of-type {\n",
              "        vertical-align: middle;\n",
              "    }\n",
              "\n",
              "    .dataframe tbody tr th {\n",
              "        vertical-align: top;\n",
              "    }\n",
              "\n",
              "    .dataframe thead th {\n",
              "        text-align: right;\n",
              "    }\n",
              "</style>\n",
              "<table border=\"1\" class=\"dataframe\">\n",
              "  <thead>\n",
              "    <tr style=\"text-align: right;\">\n",
              "      <th></th>\n",
              "      <th>Age</th>\n",
              "      <th>City</th>\n",
              "      <th>Profession</th>\n",
              "      <th>Marital Status</th>\n",
              "      <th>Education</th>\n",
              "      <th>Family_Members</th>\n",
              "      <th>Income</th>\n",
              "      <th>Standard_To_EV</th>\n",
              "      <th>Type</th>\n",
              "      <th>Economical</th>\n",
              "      <th>Current_Brand</th>\n",
              "      <th>Budget</th>\n",
              "      <th>Wheels</th>\n",
              "      <th>Evolution_Of_EV</th>\n",
              "    </tr>\n",
              "  </thead>\n",
              "  <tbody>\n",
              "    <tr>\n",
              "      <th>0</th>\n",
              "      <td>30</td>\n",
              "      <td>Nabha</td>\n",
              "      <td>None</td>\n",
              "      <td>Single</td>\n",
              "      <td>Graduate</td>\n",
              "      <td>5</td>\n",
              "      <td>1193875.647</td>\n",
              "      <td>Maybe</td>\n",
              "      <td>SUV</td>\n",
              "      <td>Yes</td>\n",
              "      <td>Hyundai</td>\n",
              "      <td>&lt;5 lakhs</td>\n",
              "      <td>2</td>\n",
              "      <td>I don't think so</td>\n",
              "    </tr>\n",
              "    <tr>\n",
              "      <th>1</th>\n",
              "      <td>27</td>\n",
              "      <td>Pune</td>\n",
              "      <td>None</td>\n",
              "      <td>Single</td>\n",
              "      <td>Graduate</td>\n",
              "      <td>4</td>\n",
              "      <td>1844540.398</td>\n",
              "      <td>Yes</td>\n",
              "      <td>SUV</td>\n",
              "      <td>Yes</td>\n",
              "      <td>Honda</td>\n",
              "      <td>&lt;15 lakhs</td>\n",
              "      <td>4</td>\n",
              "      <td>Yes, in &lt;20years</td>\n",
              "    </tr>\n",
              "    <tr>\n",
              "      <th>2</th>\n",
              "      <td>32</td>\n",
              "      <td>Kashipur</td>\n",
              "      <td>None</td>\n",
              "      <td>Single</td>\n",
              "      <td>Graduate</td>\n",
              "      <td>4</td>\n",
              "      <td>2948150.113</td>\n",
              "      <td>Yes</td>\n",
              "      <td>Hatchback</td>\n",
              "      <td>Yes</td>\n",
              "      <td>KIA</td>\n",
              "      <td>&lt;15 lakhs</td>\n",
              "      <td>4</td>\n",
              "      <td>Yes, in &lt;20years</td>\n",
              "    </tr>\n",
              "    <tr>\n",
              "      <th>3</th>\n",
              "      <td>55</td>\n",
              "      <td>Pune</td>\n",
              "      <td>Business</td>\n",
              "      <td>Single</td>\n",
              "      <td>Graduate</td>\n",
              "      <td>3</td>\n",
              "      <td>2832379.739</td>\n",
              "      <td>Maybe</td>\n",
              "      <td>Hatchback</td>\n",
              "      <td>No</td>\n",
              "      <td>Hyundai</td>\n",
              "      <td>&lt;5 lakhs</td>\n",
              "      <td>4</td>\n",
              "      <td>Yes, in &lt;10 years</td>\n",
              "    </tr>\n",
              "    <tr>\n",
              "      <th>4</th>\n",
              "      <td>26</td>\n",
              "      <td>Satara</td>\n",
              "      <td>None</td>\n",
              "      <td>Single</td>\n",
              "      <td>Graduate</td>\n",
              "      <td>4</td>\n",
              "      <td>2638750.576</td>\n",
              "      <td>Yes</td>\n",
              "      <td>Sedan</td>\n",
              "      <td>Yes</td>\n",
              "      <td>McLaren</td>\n",
              "      <td>&lt;15 lakhs</td>\n",
              "      <td>4</td>\n",
              "      <td>Yes, in &lt;20years</td>\n",
              "    </tr>\n",
              "  </tbody>\n",
              "</table>\n",
              "</div>\n",
              "    <div class=\"colab-df-buttons\">\n",
              "\n",
              "  <div class=\"colab-df-container\">\n",
              "    <button class=\"colab-df-convert\" onclick=\"convertToInteractive('df-553e4ae0-5e3e-4baa-b4a5-ec8d149bfae5')\"\n",
              "            title=\"Convert this dataframe to an interactive table.\"\n",
              "            style=\"display:none;\">\n",
              "\n",
              "  <svg xmlns=\"http://www.w3.org/2000/svg\" height=\"24px\" viewBox=\"0 -960 960 960\">\n",
              "    <path d=\"M120-120v-720h720v720H120Zm60-500h600v-160H180v160Zm220 220h160v-160H400v160Zm0 220h160v-160H400v160ZM180-400h160v-160H180v160Zm440 0h160v-160H620v160ZM180-180h160v-160H180v160Zm440 0h160v-160H620v160Z\"/>\n",
              "  </svg>\n",
              "    </button>\n",
              "\n",
              "  <style>\n",
              "    .colab-df-container {\n",
              "      display:flex;\n",
              "      gap: 12px;\n",
              "    }\n",
              "\n",
              "    .colab-df-convert {\n",
              "      background-color: #E8F0FE;\n",
              "      border: none;\n",
              "      border-radius: 50%;\n",
              "      cursor: pointer;\n",
              "      display: none;\n",
              "      fill: #1967D2;\n",
              "      height: 32px;\n",
              "      padding: 0 0 0 0;\n",
              "      width: 32px;\n",
              "    }\n",
              "\n",
              "    .colab-df-convert:hover {\n",
              "      background-color: #E2EBFA;\n",
              "      box-shadow: 0px 1px 2px rgba(60, 64, 67, 0.3), 0px 1px 3px 1px rgba(60, 64, 67, 0.15);\n",
              "      fill: #174EA6;\n",
              "    }\n",
              "\n",
              "    .colab-df-buttons div {\n",
              "      margin-bottom: 4px;\n",
              "    }\n",
              "\n",
              "    [theme=dark] .colab-df-convert {\n",
              "      background-color: #3B4455;\n",
              "      fill: #D2E3FC;\n",
              "    }\n",
              "\n",
              "    [theme=dark] .colab-df-convert:hover {\n",
              "      background-color: #434B5C;\n",
              "      box-shadow: 0px 1px 3px 1px rgba(0, 0, 0, 0.15);\n",
              "      filter: drop-shadow(0px 1px 2px rgba(0, 0, 0, 0.3));\n",
              "      fill: #FFFFFF;\n",
              "    }\n",
              "  </style>\n",
              "\n",
              "    <script>\n",
              "      const buttonEl =\n",
              "        document.querySelector('#df-553e4ae0-5e3e-4baa-b4a5-ec8d149bfae5 button.colab-df-convert');\n",
              "      buttonEl.style.display =\n",
              "        google.colab.kernel.accessAllowed ? 'block' : 'none';\n",
              "\n",
              "      async function convertToInteractive(key) {\n",
              "        const element = document.querySelector('#df-553e4ae0-5e3e-4baa-b4a5-ec8d149bfae5');\n",
              "        const dataTable =\n",
              "          await google.colab.kernel.invokeFunction('convertToInteractive',\n",
              "                                                    [key], {});\n",
              "        if (!dataTable) return;\n",
              "\n",
              "        const docLinkHtml = 'Like what you see? Visit the ' +\n",
              "          '<a target=\"_blank\" href=https://colab.research.google.com/notebooks/data_table.ipynb>data table notebook</a>'\n",
              "          + ' to learn more about interactive tables.';\n",
              "        element.innerHTML = '';\n",
              "        dataTable['output_type'] = 'display_data';\n",
              "        await google.colab.output.renderOutput(dataTable, element);\n",
              "        const docLink = document.createElement('div');\n",
              "        docLink.innerHTML = docLinkHtml;\n",
              "        element.appendChild(docLink);\n",
              "      }\n",
              "    </script>\n",
              "  </div>\n",
              "\n",
              "\n",
              "<div id=\"df-66bed342-559a-4e80-a20b-b9075e4abcaa\">\n",
              "  <button class=\"colab-df-quickchart\" onclick=\"quickchart('df-66bed342-559a-4e80-a20b-b9075e4abcaa')\"\n",
              "            title=\"Suggest charts\"\n",
              "            style=\"display:none;\">\n",
              "\n",
              "<svg xmlns=\"http://www.w3.org/2000/svg\" height=\"24px\"viewBox=\"0 0 24 24\"\n",
              "     width=\"24px\">\n",
              "    <g>\n",
              "        <path d=\"M19 3H5c-1.1 0-2 .9-2 2v14c0 1.1.9 2 2 2h14c1.1 0 2-.9 2-2V5c0-1.1-.9-2-2-2zM9 17H7v-7h2v7zm4 0h-2V7h2v10zm4 0h-2v-4h2v4z\"/>\n",
              "    </g>\n",
              "</svg>\n",
              "  </button>\n",
              "\n",
              "<style>\n",
              "  .colab-df-quickchart {\n",
              "      --bg-color: #E8F0FE;\n",
              "      --fill-color: #1967D2;\n",
              "      --hover-bg-color: #E2EBFA;\n",
              "      --hover-fill-color: #174EA6;\n",
              "      --disabled-fill-color: #AAA;\n",
              "      --disabled-bg-color: #DDD;\n",
              "  }\n",
              "\n",
              "  [theme=dark] .colab-df-quickchart {\n",
              "      --bg-color: #3B4455;\n",
              "      --fill-color: #D2E3FC;\n",
              "      --hover-bg-color: #434B5C;\n",
              "      --hover-fill-color: #FFFFFF;\n",
              "      --disabled-bg-color: #3B4455;\n",
              "      --disabled-fill-color: #666;\n",
              "  }\n",
              "\n",
              "  .colab-df-quickchart {\n",
              "    background-color: var(--bg-color);\n",
              "    border: none;\n",
              "    border-radius: 50%;\n",
              "    cursor: pointer;\n",
              "    display: none;\n",
              "    fill: var(--fill-color);\n",
              "    height: 32px;\n",
              "    padding: 0;\n",
              "    width: 32px;\n",
              "  }\n",
              "\n",
              "  .colab-df-quickchart:hover {\n",
              "    background-color: var(--hover-bg-color);\n",
              "    box-shadow: 0 1px 2px rgba(60, 64, 67, 0.3), 0 1px 3px 1px rgba(60, 64, 67, 0.15);\n",
              "    fill: var(--button-hover-fill-color);\n",
              "  }\n",
              "\n",
              "  .colab-df-quickchart-complete:disabled,\n",
              "  .colab-df-quickchart-complete:disabled:hover {\n",
              "    background-color: var(--disabled-bg-color);\n",
              "    fill: var(--disabled-fill-color);\n",
              "    box-shadow: none;\n",
              "  }\n",
              "\n",
              "  .colab-df-spinner {\n",
              "    border: 2px solid var(--fill-color);\n",
              "    border-color: transparent;\n",
              "    border-bottom-color: var(--fill-color);\n",
              "    animation:\n",
              "      spin 1s steps(1) infinite;\n",
              "  }\n",
              "\n",
              "  @keyframes spin {\n",
              "    0% {\n",
              "      border-color: transparent;\n",
              "      border-bottom-color: var(--fill-color);\n",
              "      border-left-color: var(--fill-color);\n",
              "    }\n",
              "    20% {\n",
              "      border-color: transparent;\n",
              "      border-left-color: var(--fill-color);\n",
              "      border-top-color: var(--fill-color);\n",
              "    }\n",
              "    30% {\n",
              "      border-color: transparent;\n",
              "      border-left-color: var(--fill-color);\n",
              "      border-top-color: var(--fill-color);\n",
              "      border-right-color: var(--fill-color);\n",
              "    }\n",
              "    40% {\n",
              "      border-color: transparent;\n",
              "      border-right-color: var(--fill-color);\n",
              "      border-top-color: var(--fill-color);\n",
              "    }\n",
              "    60% {\n",
              "      border-color: transparent;\n",
              "      border-right-color: var(--fill-color);\n",
              "    }\n",
              "    80% {\n",
              "      border-color: transparent;\n",
              "      border-right-color: var(--fill-color);\n",
              "      border-bottom-color: var(--fill-color);\n",
              "    }\n",
              "    90% {\n",
              "      border-color: transparent;\n",
              "      border-bottom-color: var(--fill-color);\n",
              "    }\n",
              "  }\n",
              "</style>\n",
              "\n",
              "  <script>\n",
              "    async function quickchart(key) {\n",
              "      const quickchartButtonEl =\n",
              "        document.querySelector('#' + key + ' button');\n",
              "      quickchartButtonEl.disabled = true;  // To prevent multiple clicks.\n",
              "      quickchartButtonEl.classList.add('colab-df-spinner');\n",
              "      try {\n",
              "        const charts = await google.colab.kernel.invokeFunction(\n",
              "            'suggestCharts', [key], {});\n",
              "      } catch (error) {\n",
              "        console.error('Error during call to suggestCharts:', error);\n",
              "      }\n",
              "      quickchartButtonEl.classList.remove('colab-df-spinner');\n",
              "      quickchartButtonEl.classList.add('colab-df-quickchart-complete');\n",
              "    }\n",
              "    (() => {\n",
              "      let quickchartButtonEl =\n",
              "        document.querySelector('#df-66bed342-559a-4e80-a20b-b9075e4abcaa button');\n",
              "      quickchartButtonEl.style.display =\n",
              "        google.colab.kernel.accessAllowed ? 'block' : 'none';\n",
              "    })();\n",
              "  </script>\n",
              "</div>\n",
              "\n",
              "    </div>\n",
              "  </div>\n"
            ]
          },
          "metadata": {},
          "execution_count": 28
        }
      ]
    },
    {
      "cell_type": "code",
      "source": [
        "ev_data_3['Marital Status'].unique()"
      ],
      "metadata": {
        "colab": {
          "base_uri": "https://localhost:8080/"
        },
        "id": "T7-yZCC8W7IN",
        "outputId": "a260f89f-0207-4e0b-fdf1-f7e1a21551e7"
      },
      "execution_count": null,
      "outputs": [
        {
          "output_type": "execute_result",
          "data": {
            "text/plain": [
              "array(['Single', 'Married'], dtype=object)"
            ]
          },
          "metadata": {},
          "execution_count": 29
        }
      ]
    },
    {
      "cell_type": "code",
      "source": [
        "ev_data_3['Education'].unique()"
      ],
      "metadata": {
        "colab": {
          "base_uri": "https://localhost:8080/"
        },
        "id": "blYalqjsW-c3",
        "outputId": "96b62ab9-dc64-43fe-91f4-92212fc371fe"
      },
      "execution_count": null,
      "outputs": [
        {
          "output_type": "execute_result",
          "data": {
            "text/plain": [
              "array(['Graduate', 'Post Graduate'], dtype=object)"
            ]
          },
          "metadata": {},
          "execution_count": 30
        }
      ]
    },
    {
      "cell_type": "code",
      "source": [
        "#Tansformation of Variables"
      ],
      "metadata": {
        "id": "ftE0HID4XBnq"
      },
      "execution_count": null,
      "outputs": []
    },
    {
      "cell_type": "code",
      "source": [
        "ev_data_3['Marital Status'].replace(to_replace=['Single','Married'],value=[0, 1],inplace=True)\n",
        "ev_data_3['Economical'].replace(to_replace=['No', 'Maybe', 'Yes'],value=[0, 0, 1],inplace=True)\n",
        "ev_data_3['Post_Graduate'] = ev_data_3['Education'].apply(lambda x:1 if 'Post Graduate' in x else 0)\n",
        "ev_data_3['Standard_to_EV'] = ev_data_3['Standard_To_EV'].apply(lambda x:1 if 'Yes' in x else 0)\n",
        "ev_data_3['Standard_to_EV'] = ev_data_3['Standard_To_EV'].apply(lambda x:1 if 'Yes' in x else 0)\n",
        "ev_data_3['Budget'].replace(to_replace=['<5 lakhs','<15 lakhs', '<25 lakhs', '>25 lakhs'],value=[5, 15, 25, 30],inplace=True)\n",
        "ev_data_3['Evolution_Of_EV'].replace(to_replace=['I don\\'t think so','Yes, in <10 years', 'Yes, in <20years', 'Yes, possibly after 20 years'],value=[0, 10, 20, 30],inplace=True)"
      ],
      "metadata": {
        "id": "rLiV1OSiReHy"
      },
      "execution_count": null,
      "outputs": []
    },
    {
      "cell_type": "code",
      "source": [
        "from sklearn.preprocessing import LabelEncoder"
      ],
      "metadata": {
        "id": "KKVxS1TfZzJi"
      },
      "execution_count": null,
      "outputs": []
    },
    {
      "cell_type": "code",
      "source": [
        "labelEncoding = LabelEncoder()\n",
        "ev_data_3['City'] = labelEncoding.fit_transform(ev_data_3['City'])\n",
        "ev_data_3['Type'] = labelEncoding.fit_transform(ev_data_3['Type'])\n",
        "ev_data_3['Current_Brand'] = labelEncoding.fit_transform(ev_data_3['Current_Brand'])"
      ],
      "metadata": {
        "id": "DpTAwINLaAPx"
      },
      "execution_count": null,
      "outputs": []
    },
    {
      "cell_type": "code",
      "source": [
        "ev_data_3 = pd.get_dummies(ev_data_3, columns = ['Profession'], drop_first=True)"
      ],
      "metadata": {
        "id": "bsvKCaysbxfO"
      },
      "execution_count": null,
      "outputs": []
    },
    {
      "cell_type": "code",
      "source": [
        "ev_data_3['Profession_Salaried'] = ev_data_3['Profession_Salaried'].astype('int')\n",
        "ev_data_3['Profession_Working Professional'] = ev_data_3['Profession_Working Professional'].astype('int')"
      ],
      "metadata": {
        "id": "POs9frvNcB4z"
      },
      "execution_count": null,
      "outputs": []
    },
    {
      "cell_type": "code",
      "source": [
        "del ev_data_3['Education']\n",
        "del ev_data_3['Standard_To_EV']"
      ],
      "metadata": {
        "id": "YlmryutZgCJr"
      },
      "execution_count": null,
      "outputs": []
    },
    {
      "cell_type": "code",
      "source": [
        "ev_data_3 = ev_data_3[ev_data_3['Age'] != 118]"
      ],
      "metadata": {
        "id": "Ky0gmJkpdUAv"
      },
      "execution_count": null,
      "outputs": []
    },
    {
      "cell_type": "code",
      "source": [
        "ev_data_3.head()"
      ],
      "metadata": {
        "colab": {
          "base_uri": "https://localhost:8080/",
          "height": 244
        },
        "id": "ZuHNqBtBdV0x",
        "outputId": "bc9e9539-a967-48c4-f4e1-6ed8cb9f76d8"
      },
      "execution_count": null,
      "outputs": [
        {
          "output_type": "execute_result",
          "data": {
            "text/plain": [
              "   Age  City  Marital Status  Family_Members      Income  Type  Economical  \\\n",
              "0   30    18               0               5  1193875.65     3           1   \n",
              "1   27    26               0               4  1844540.40     3           1   \n",
              "2   32    15               0               4  2948150.11     1           1   \n",
              "3   55    26               0               3  2832379.74     1           0   \n",
              "4   26    29               0               4  2638750.58     4           1   \n",
              "\n",
              "   Current_Brand  Budget  Wheels  Evolution_Of_EV  Post_Graduate  \\\n",
              "0              4       5       2                0              0   \n",
              "1              3      15       4               20              0   \n",
              "2              5      15       4               20              0   \n",
              "3              4       5       4               10              0   \n",
              "4             10      15       4               20              0   \n",
              "\n",
              "   Standard_to_EV  Profession_None  Profession_Salaried  \\\n",
              "0               0                1                    0   \n",
              "1               1                1                    0   \n",
              "2               1                1                    0   \n",
              "3               0                0                    0   \n",
              "4               1                1                    0   \n",
              "\n",
              "   Profession_Working Professional  ClusterLabel  \n",
              "0                                0             1  \n",
              "1                                0             4  \n",
              "2                                0             3  \n",
              "3                                0             3  \n",
              "4                                0             3  "
            ],
            "text/html": [
              "\n",
              "  <div id=\"df-5947b49e-8099-4cba-9329-b1b91517bdcb\" class=\"colab-df-container\">\n",
              "    <div>\n",
              "<style scoped>\n",
              "    .dataframe tbody tr th:only-of-type {\n",
              "        vertical-align: middle;\n",
              "    }\n",
              "\n",
              "    .dataframe tbody tr th {\n",
              "        vertical-align: top;\n",
              "    }\n",
              "\n",
              "    .dataframe thead th {\n",
              "        text-align: right;\n",
              "    }\n",
              "</style>\n",
              "<table border=\"1\" class=\"dataframe\">\n",
              "  <thead>\n",
              "    <tr style=\"text-align: right;\">\n",
              "      <th></th>\n",
              "      <th>Age</th>\n",
              "      <th>City</th>\n",
              "      <th>Marital Status</th>\n",
              "      <th>Family_Members</th>\n",
              "      <th>Income</th>\n",
              "      <th>Type</th>\n",
              "      <th>Economical</th>\n",
              "      <th>Current_Brand</th>\n",
              "      <th>Budget</th>\n",
              "      <th>Wheels</th>\n",
              "      <th>Evolution_Of_EV</th>\n",
              "      <th>Post_Graduate</th>\n",
              "      <th>Standard_to_EV</th>\n",
              "      <th>Profession_None</th>\n",
              "      <th>Profession_Salaried</th>\n",
              "      <th>Profession_Working Professional</th>\n",
              "      <th>ClusterLabel</th>\n",
              "    </tr>\n",
              "  </thead>\n",
              "  <tbody>\n",
              "    <tr>\n",
              "      <th>0</th>\n",
              "      <td>30</td>\n",
              "      <td>18</td>\n",
              "      <td>0</td>\n",
              "      <td>5</td>\n",
              "      <td>1193875.65</td>\n",
              "      <td>3</td>\n",
              "      <td>1</td>\n",
              "      <td>4</td>\n",
              "      <td>5</td>\n",
              "      <td>2</td>\n",
              "      <td>0</td>\n",
              "      <td>0</td>\n",
              "      <td>0</td>\n",
              "      <td>1</td>\n",
              "      <td>0</td>\n",
              "      <td>0</td>\n",
              "      <td>1</td>\n",
              "    </tr>\n",
              "    <tr>\n",
              "      <th>1</th>\n",
              "      <td>27</td>\n",
              "      <td>26</td>\n",
              "      <td>0</td>\n",
              "      <td>4</td>\n",
              "      <td>1844540.40</td>\n",
              "      <td>3</td>\n",
              "      <td>1</td>\n",
              "      <td>3</td>\n",
              "      <td>15</td>\n",
              "      <td>4</td>\n",
              "      <td>20</td>\n",
              "      <td>0</td>\n",
              "      <td>1</td>\n",
              "      <td>1</td>\n",
              "      <td>0</td>\n",
              "      <td>0</td>\n",
              "      <td>4</td>\n",
              "    </tr>\n",
              "    <tr>\n",
              "      <th>2</th>\n",
              "      <td>32</td>\n",
              "      <td>15</td>\n",
              "      <td>0</td>\n",
              "      <td>4</td>\n",
              "      <td>2948150.11</td>\n",
              "      <td>1</td>\n",
              "      <td>1</td>\n",
              "      <td>5</td>\n",
              "      <td>15</td>\n",
              "      <td>4</td>\n",
              "      <td>20</td>\n",
              "      <td>0</td>\n",
              "      <td>1</td>\n",
              "      <td>1</td>\n",
              "      <td>0</td>\n",
              "      <td>0</td>\n",
              "      <td>3</td>\n",
              "    </tr>\n",
              "    <tr>\n",
              "      <th>3</th>\n",
              "      <td>55</td>\n",
              "      <td>26</td>\n",
              "      <td>0</td>\n",
              "      <td>3</td>\n",
              "      <td>2832379.74</td>\n",
              "      <td>1</td>\n",
              "      <td>0</td>\n",
              "      <td>4</td>\n",
              "      <td>5</td>\n",
              "      <td>4</td>\n",
              "      <td>10</td>\n",
              "      <td>0</td>\n",
              "      <td>0</td>\n",
              "      <td>0</td>\n",
              "      <td>0</td>\n",
              "      <td>0</td>\n",
              "      <td>3</td>\n",
              "    </tr>\n",
              "    <tr>\n",
              "      <th>4</th>\n",
              "      <td>26</td>\n",
              "      <td>29</td>\n",
              "      <td>0</td>\n",
              "      <td>4</td>\n",
              "      <td>2638750.58</td>\n",
              "      <td>4</td>\n",
              "      <td>1</td>\n",
              "      <td>10</td>\n",
              "      <td>15</td>\n",
              "      <td>4</td>\n",
              "      <td>20</td>\n",
              "      <td>0</td>\n",
              "      <td>1</td>\n",
              "      <td>1</td>\n",
              "      <td>0</td>\n",
              "      <td>0</td>\n",
              "      <td>3</td>\n",
              "    </tr>\n",
              "  </tbody>\n",
              "</table>\n",
              "</div>\n",
              "    <div class=\"colab-df-buttons\">\n",
              "\n",
              "  <div class=\"colab-df-container\">\n",
              "    <button class=\"colab-df-convert\" onclick=\"convertToInteractive('df-5947b49e-8099-4cba-9329-b1b91517bdcb')\"\n",
              "            title=\"Convert this dataframe to an interactive table.\"\n",
              "            style=\"display:none;\">\n",
              "\n",
              "  <svg xmlns=\"http://www.w3.org/2000/svg\" height=\"24px\" viewBox=\"0 -960 960 960\">\n",
              "    <path d=\"M120-120v-720h720v720H120Zm60-500h600v-160H180v160Zm220 220h160v-160H400v160Zm0 220h160v-160H400v160ZM180-400h160v-160H180v160Zm440 0h160v-160H620v160ZM180-180h160v-160H180v160Zm440 0h160v-160H620v160Z\"/>\n",
              "  </svg>\n",
              "    </button>\n",
              "\n",
              "  <style>\n",
              "    .colab-df-container {\n",
              "      display:flex;\n",
              "      gap: 12px;\n",
              "    }\n",
              "\n",
              "    .colab-df-convert {\n",
              "      background-color: #E8F0FE;\n",
              "      border: none;\n",
              "      border-radius: 50%;\n",
              "      cursor: pointer;\n",
              "      display: none;\n",
              "      fill: #1967D2;\n",
              "      height: 32px;\n",
              "      padding: 0 0 0 0;\n",
              "      width: 32px;\n",
              "    }\n",
              "\n",
              "    .colab-df-convert:hover {\n",
              "      background-color: #E2EBFA;\n",
              "      box-shadow: 0px 1px 2px rgba(60, 64, 67, 0.3), 0px 1px 3px 1px rgba(60, 64, 67, 0.15);\n",
              "      fill: #174EA6;\n",
              "    }\n",
              "\n",
              "    .colab-df-buttons div {\n",
              "      margin-bottom: 4px;\n",
              "    }\n",
              "\n",
              "    [theme=dark] .colab-df-convert {\n",
              "      background-color: #3B4455;\n",
              "      fill: #D2E3FC;\n",
              "    }\n",
              "\n",
              "    [theme=dark] .colab-df-convert:hover {\n",
              "      background-color: #434B5C;\n",
              "      box-shadow: 0px 1px 3px 1px rgba(0, 0, 0, 0.15);\n",
              "      filter: drop-shadow(0px 1px 2px rgba(0, 0, 0, 0.3));\n",
              "      fill: #FFFFFF;\n",
              "    }\n",
              "  </style>\n",
              "\n",
              "    <script>\n",
              "      const buttonEl =\n",
              "        document.querySelector('#df-5947b49e-8099-4cba-9329-b1b91517bdcb button.colab-df-convert');\n",
              "      buttonEl.style.display =\n",
              "        google.colab.kernel.accessAllowed ? 'block' : 'none';\n",
              "\n",
              "      async function convertToInteractive(key) {\n",
              "        const element = document.querySelector('#df-5947b49e-8099-4cba-9329-b1b91517bdcb');\n",
              "        const dataTable =\n",
              "          await google.colab.kernel.invokeFunction('convertToInteractive',\n",
              "                                                    [key], {});\n",
              "        if (!dataTable) return;\n",
              "\n",
              "        const docLinkHtml = 'Like what you see? Visit the ' +\n",
              "          '<a target=\"_blank\" href=https://colab.research.google.com/notebooks/data_table.ipynb>data table notebook</a>'\n",
              "          + ' to learn more about interactive tables.';\n",
              "        element.innerHTML = '';\n",
              "        dataTable['output_type'] = 'display_data';\n",
              "        await google.colab.output.renderOutput(dataTable, element);\n",
              "        const docLink = document.createElement('div');\n",
              "        docLink.innerHTML = docLinkHtml;\n",
              "        element.appendChild(docLink);\n",
              "      }\n",
              "    </script>\n",
              "  </div>\n",
              "\n",
              "\n",
              "<div id=\"df-30b8f771-42a2-473d-bedc-4f04171b77b8\">\n",
              "  <button class=\"colab-df-quickchart\" onclick=\"quickchart('df-30b8f771-42a2-473d-bedc-4f04171b77b8')\"\n",
              "            title=\"Suggest charts\"\n",
              "            style=\"display:none;\">\n",
              "\n",
              "<svg xmlns=\"http://www.w3.org/2000/svg\" height=\"24px\"viewBox=\"0 0 24 24\"\n",
              "     width=\"24px\">\n",
              "    <g>\n",
              "        <path d=\"M19 3H5c-1.1 0-2 .9-2 2v14c0 1.1.9 2 2 2h14c1.1 0 2-.9 2-2V5c0-1.1-.9-2-2-2zM9 17H7v-7h2v7zm4 0h-2V7h2v10zm4 0h-2v-4h2v4z\"/>\n",
              "    </g>\n",
              "</svg>\n",
              "  </button>\n",
              "\n",
              "<style>\n",
              "  .colab-df-quickchart {\n",
              "      --bg-color: #E8F0FE;\n",
              "      --fill-color: #1967D2;\n",
              "      --hover-bg-color: #E2EBFA;\n",
              "      --hover-fill-color: #174EA6;\n",
              "      --disabled-fill-color: #AAA;\n",
              "      --disabled-bg-color: #DDD;\n",
              "  }\n",
              "\n",
              "  [theme=dark] .colab-df-quickchart {\n",
              "      --bg-color: #3B4455;\n",
              "      --fill-color: #D2E3FC;\n",
              "      --hover-bg-color: #434B5C;\n",
              "      --hover-fill-color: #FFFFFF;\n",
              "      --disabled-bg-color: #3B4455;\n",
              "      --disabled-fill-color: #666;\n",
              "  }\n",
              "\n",
              "  .colab-df-quickchart {\n",
              "    background-color: var(--bg-color);\n",
              "    border: none;\n",
              "    border-radius: 50%;\n",
              "    cursor: pointer;\n",
              "    display: none;\n",
              "    fill: var(--fill-color);\n",
              "    height: 32px;\n",
              "    padding: 0;\n",
              "    width: 32px;\n",
              "  }\n",
              "\n",
              "  .colab-df-quickchart:hover {\n",
              "    background-color: var(--hover-bg-color);\n",
              "    box-shadow: 0 1px 2px rgba(60, 64, 67, 0.3), 0 1px 3px 1px rgba(60, 64, 67, 0.15);\n",
              "    fill: var(--button-hover-fill-color);\n",
              "  }\n",
              "\n",
              "  .colab-df-quickchart-complete:disabled,\n",
              "  .colab-df-quickchart-complete:disabled:hover {\n",
              "    background-color: var(--disabled-bg-color);\n",
              "    fill: var(--disabled-fill-color);\n",
              "    box-shadow: none;\n",
              "  }\n",
              "\n",
              "  .colab-df-spinner {\n",
              "    border: 2px solid var(--fill-color);\n",
              "    border-color: transparent;\n",
              "    border-bottom-color: var(--fill-color);\n",
              "    animation:\n",
              "      spin 1s steps(1) infinite;\n",
              "  }\n",
              "\n",
              "  @keyframes spin {\n",
              "    0% {\n",
              "      border-color: transparent;\n",
              "      border-bottom-color: var(--fill-color);\n",
              "      border-left-color: var(--fill-color);\n",
              "    }\n",
              "    20% {\n",
              "      border-color: transparent;\n",
              "      border-left-color: var(--fill-color);\n",
              "      border-top-color: var(--fill-color);\n",
              "    }\n",
              "    30% {\n",
              "      border-color: transparent;\n",
              "      border-left-color: var(--fill-color);\n",
              "      border-top-color: var(--fill-color);\n",
              "      border-right-color: var(--fill-color);\n",
              "    }\n",
              "    40% {\n",
              "      border-color: transparent;\n",
              "      border-right-color: var(--fill-color);\n",
              "      border-top-color: var(--fill-color);\n",
              "    }\n",
              "    60% {\n",
              "      border-color: transparent;\n",
              "      border-right-color: var(--fill-color);\n",
              "    }\n",
              "    80% {\n",
              "      border-color: transparent;\n",
              "      border-right-color: var(--fill-color);\n",
              "      border-bottom-color: var(--fill-color);\n",
              "    }\n",
              "    90% {\n",
              "      border-color: transparent;\n",
              "      border-bottom-color: var(--fill-color);\n",
              "    }\n",
              "  }\n",
              "</style>\n",
              "\n",
              "  <script>\n",
              "    async function quickchart(key) {\n",
              "      const quickchartButtonEl =\n",
              "        document.querySelector('#' + key + ' button');\n",
              "      quickchartButtonEl.disabled = true;  // To prevent multiple clicks.\n",
              "      quickchartButtonEl.classList.add('colab-df-spinner');\n",
              "      try {\n",
              "        const charts = await google.colab.kernel.invokeFunction(\n",
              "            'suggestCharts', [key], {});\n",
              "      } catch (error) {\n",
              "        console.error('Error during call to suggestCharts:', error);\n",
              "      }\n",
              "      quickchartButtonEl.classList.remove('colab-df-spinner');\n",
              "      quickchartButtonEl.classList.add('colab-df-quickchart-complete');\n",
              "    }\n",
              "    (() => {\n",
              "      let quickchartButtonEl =\n",
              "        document.querySelector('#df-30b8f771-42a2-473d-bedc-4f04171b77b8 button');\n",
              "      quickchartButtonEl.style.display =\n",
              "        google.colab.kernel.accessAllowed ? 'block' : 'none';\n",
              "    })();\n",
              "  </script>\n",
              "</div>\n",
              "\n",
              "    </div>\n",
              "  </div>\n"
            ]
          },
          "metadata": {},
          "execution_count": 68
        }
      ]
    },
    {
      "cell_type": "code",
      "source": [
        "ev_data_3['Economical'].value_counts()"
      ],
      "metadata": {
        "colab": {
          "base_uri": "https://localhost:8080/"
        },
        "id": "PfFxkeh2ej6R",
        "outputId": "ea7286b8-4831-4a28-9f5b-dfbbd1e3e479"
      },
      "execution_count": null,
      "outputs": [
        {
          "output_type": "execute_result",
          "data": {
            "text/plain": [
              "1    767\n",
              "0    232\n",
              "Name: Economical, dtype: int64"
            ]
          },
          "metadata": {},
          "execution_count": 69
        }
      ]
    },
    {
      "cell_type": "code",
      "source": [
        "ev_data_3['Budget'] = ev_data_3['Budget'].astype('int')\n",
        "ev_data_3['Income'] = ev_data_3['Income'].round(decimals=2)"
      ],
      "metadata": {
        "id": "oB_LWahOen7j"
      },
      "execution_count": null,
      "outputs": []
    },
    {
      "cell_type": "code",
      "source": [
        "ev_data_3['Budget'].unique()"
      ],
      "metadata": {
        "colab": {
          "base_uri": "https://localhost:8080/"
        },
        "id": "ue8icEU-erZe",
        "outputId": "8d0a644c-78f9-48e5-8eb1-7b6e97dc2ad9"
      },
      "execution_count": null,
      "outputs": [
        {
          "output_type": "execute_result",
          "data": {
            "text/plain": [
              "array([ 5, 15, 25,  7, 30, 20, 12])"
            ]
          },
          "metadata": {},
          "execution_count": 71
        }
      ]
    },
    {
      "cell_type": "code",
      "source": [
        "ev_data_3['Budget'].replace(to_replace=[700000, 1200000, 1500000, 2000000],value=[7, 12, 15, 20],inplace=True)"
      ],
      "metadata": {
        "id": "XqjVwHyPerbA"
      },
      "execution_count": null,
      "outputs": []
    },
    {
      "cell_type": "code",
      "source": [
        "ev_data_3.shape"
      ],
      "metadata": {
        "colab": {
          "base_uri": "https://localhost:8080/"
        },
        "id": "Ymh_rNcmexn4",
        "outputId": "395040e3-9f8f-40b8-ed3f-649c875e4be7"
      },
      "execution_count": null,
      "outputs": [
        {
          "output_type": "execute_result",
          "data": {
            "text/plain": [
              "(999, 17)"
            ]
          },
          "metadata": {},
          "execution_count": 73
        }
      ]
    },
    {
      "cell_type": "code",
      "source": [
        "#Unsupervised Learning Algorithms"
      ],
      "metadata": {
        "id": "iJqLldMke0L8"
      },
      "execution_count": null,
      "outputs": []
    },
    {
      "cell_type": "code",
      "source": [
        "X = ev_data_3[['Income', 'City']].values"
      ],
      "metadata": {
        "id": "Lvi9XUbKe_wf"
      },
      "execution_count": null,
      "outputs": []
    },
    {
      "cell_type": "code",
      "source": [
        "from sklearn.cluster import KMeans\n",
        "wcss = []\n",
        "for i in range(1, 7):\n",
        "    kmeans = KMeans(n_clusters = i, init = 'k-means++', random_state = 42)\n",
        "    kmeans.fit(X)\n",
        "    wcss.append(kmeans.inertia_)\n",
        "plt.plot(range(1, 7), wcss)\n",
        "plt.title('The Elbow Method')\n",
        "plt.xlabel('Number of clusters')\n",
        "plt.ylabel('WCSS')\n",
        "plt.show()"
      ],
      "metadata": {
        "colab": {
          "base_uri": "https://localhost:8080/",
          "height": 700
        },
        "id": "mhlCMFLufC9A",
        "outputId": "6d14f786-72df-440a-cfee-68e2f0c2258e"
      },
      "execution_count": null,
      "outputs": [
        {
          "output_type": "stream",
          "name": "stderr",
          "text": [
            "/usr/local/lib/python3.10/dist-packages/sklearn/cluster/_kmeans.py:870: FutureWarning: The default value of `n_init` will change from 10 to 'auto' in 1.4. Set the value of `n_init` explicitly to suppress the warning\n",
            "  warnings.warn(\n",
            "/usr/local/lib/python3.10/dist-packages/sklearn/cluster/_kmeans.py:870: FutureWarning: The default value of `n_init` will change from 10 to 'auto' in 1.4. Set the value of `n_init` explicitly to suppress the warning\n",
            "  warnings.warn(\n",
            "/usr/local/lib/python3.10/dist-packages/sklearn/cluster/_kmeans.py:870: FutureWarning: The default value of `n_init` will change from 10 to 'auto' in 1.4. Set the value of `n_init` explicitly to suppress the warning\n",
            "  warnings.warn(\n",
            "/usr/local/lib/python3.10/dist-packages/sklearn/cluster/_kmeans.py:870: FutureWarning: The default value of `n_init` will change from 10 to 'auto' in 1.4. Set the value of `n_init` explicitly to suppress the warning\n",
            "  warnings.warn(\n",
            "/usr/local/lib/python3.10/dist-packages/sklearn/cluster/_kmeans.py:870: FutureWarning: The default value of `n_init` will change from 10 to 'auto' in 1.4. Set the value of `n_init` explicitly to suppress the warning\n",
            "  warnings.warn(\n",
            "/usr/local/lib/python3.10/dist-packages/sklearn/cluster/_kmeans.py:870: FutureWarning: The default value of `n_init` will change from 10 to 'auto' in 1.4. Set the value of `n_init` explicitly to suppress the warning\n",
            "  warnings.warn(\n"
          ]
        },
        {
          "output_type": "display_data",
          "data": {
            "text/plain": [
              "<Figure size 640x480 with 1 Axes>"
            ],
            "image/png": "[encoded data removed]"
          },
          "metadata": {}
        }
      ]
    },
    {
      "cell_type": "code",
      "source": [
        "kmeans = KMeans(n_clusters = 4, init = 'k-means++', random_state = 42)\n",
        "y_kmeans = kmeans.fit_predict(X)"
      ],
      "metadata": {
        "colab": {
          "base_uri": "https://localhost:8080/"
        },
        "id": "CdL1oxowfFqx",
        "outputId": "66adca5d-6393-483b-b002-265e23d1fe9c"
      },
      "execution_count": null,
      "outputs": [
        {
          "output_type": "stream",
          "name": "stderr",
          "text": [
            "/usr/local/lib/python3.10/dist-packages/sklearn/cluster/_kmeans.py:870: FutureWarning: The default value of `n_init` will change from 10 to 'auto' in 1.4. Set the value of `n_init` explicitly to suppress the warning\n",
            "  warnings.warn(\n"
          ]
        }
      ]
    },
    {
      "cell_type": "code",
      "source": [
        "y_kmeans = kmeans.labels_\n",
        "y_kmeans"
      ],
      "metadata": {
        "colab": {
          "base_uri": "https://localhost:8080/"
        },
        "id": "RsXFogsgfLPk",
        "outputId": "5f373174-3442-4810-8554-ff7aee389e4f"
      },
      "execution_count": null,
      "outputs": [
        {
          "output_type": "execute_result",
          "data": {
            "text/plain": [
              "array([0, 3, 2, 2, 2, 2, 2, 3, 3, 0, 2, 3, 0, 3, 3, 2, 3, 3, 2, 0, 2, 2,\n",
              "       2, 3, 0, 3, 3, 3, 3, 3, 0, 2, 3, 2, 3, 3, 2, 3, 2, 0, 3, 0, 3, 3,\n",
              "       2, 0, 2, 2, 0, 2, 2, 2, 2, 0, 3, 0, 0, 2, 3, 2, 3, 2, 0, 0, 2, 0,\n",
              "       2, 3, 2, 2, 2, 2, 2, 0, 2, 3, 2, 3, 2, 2, 2, 2, 3, 0, 0, 3, 2, 3,\n",
              "       0, 3, 3, 2, 3, 2, 2, 3, 0, 3, 3, 2, 2, 3, 0, 0, 2, 2, 3, 3, 3, 0,\n",
              "       2, 3, 3, 3, 2, 2, 2, 2, 3, 3, 2, 3, 3, 0, 2, 3, 3, 2, 3, 3, 2, 0,\n",
              "       0, 0, 2, 2, 3, 3, 2, 3, 2, 2, 3, 3, 2, 2, 2, 3, 2, 1, 2, 1, 2, 2,\n",
              "       0, 2, 2, 3, 2, 3, 2, 2, 2, 2, 0, 2, 2, 3, 2, 3, 3, 2, 0, 2, 3, 3,\n",
              "       2, 0, 3, 2, 2, 3, 3, 3, 2, 0, 2, 3, 3, 2, 0, 2, 2, 2, 3, 0, 3, 3,\n",
              "       2, 3, 0, 2, 3, 2, 2, 3, 3, 2, 3, 0, 3, 2, 2, 0, 2, 2, 3, 2, 2, 2,\n",
              "       0, 3, 2, 3, 2, 3, 2, 2, 3, 3, 2, 3, 2, 0, 0, 0, 2, 2, 2, 3, 3, 3,\n",
              "       2, 3, 3, 3, 3, 2, 2, 3, 3, 2, 3, 2, 2, 2, 0, 2, 3, 2, 2, 3, 2, 3,\n",
              "       2, 3, 3, 3, 2, 2, 2, 3, 3, 3, 2, 2, 2, 2, 3, 2, 2, 3, 0, 0, 0, 2,\n",
              "       2, 3, 3, 0, 3, 2, 2, 2, 0, 0, 2, 0, 0, 0, 2, 3, 3, 2, 3, 0, 3, 2,\n",
              "       0, 3, 2, 2, 0, 2, 2, 0, 0, 0, 2, 2, 3, 0, 3, 3, 2, 3, 2, 0, 2, 2,\n",
              "       3, 3, 0, 3, 3, 2, 3, 3, 0, 3, 2, 2, 0, 0, 2, 3, 2, 0, 0, 2, 2, 0,\n",
              "       0, 3, 3, 2, 3, 0, 3, 3, 3, 2, 3, 3, 3, 2, 3, 2, 2, 2, 2, 0, 0, 2,\n",
              "       2, 2, 3, 2, 0, 2, 3, 3, 0, 0, 3, 0, 0, 2, 0, 2, 2, 2, 3, 0, 3, 3,\n",
              "       3, 3, 2, 2, 3, 2, 2, 3, 0, 3, 2, 2, 0, 0, 3, 2, 2, 3, 0, 3, 2, 3,\n",
              "       2, 2, 2, 3, 2, 0, 0, 3, 2, 0, 3, 2, 3, 0, 3, 0, 3, 3, 3, 2, 3, 2,\n",
              "       3, 0, 2, 3, 2, 0, 3, 3, 2, 2, 3, 2, 2, 2, 3, 3, 3, 3, 0, 2, 3, 2,\n",
              "       3, 0, 3, 3, 0, 2, 2, 0, 2, 0, 2, 3, 0, 0, 2, 2, 2, 3, 2, 2, 3, 2,\n",
              "       2, 2, 3, 0, 2, 3, 2, 3, 2, 2, 3, 2, 2, 2, 2, 3, 2, 0, 2, 2, 2, 2,\n",
              "       2, 2, 2, 2, 3, 3, 3, 2, 3, 3, 2, 2, 0, 3, 3, 3, 3, 0, 2, 2, 0, 2,\n",
              "       3, 3, 2, 0, 3, 2, 0, 3, 0, 0, 2, 3, 0, 0, 2, 3, 3, 0, 0, 2, 2, 3,\n",
              "       2, 0, 2, 2, 3, 3, 0, 3, 3, 2, 2, 3, 2, 2, 3, 0, 3, 3, 2, 2, 2, 3,\n",
              "       0, 3, 3, 2, 0, 2, 0, 0, 0, 0, 0, 2, 2, 3, 3, 3, 2, 2, 0, 2, 0, 2,\n",
              "       2, 0, 0, 2, 3, 3, 0, 2, 3, 3, 3, 0, 0, 3, 3, 2, 2, 3, 3, 2, 2, 3,\n",
              "       1, 3, 2, 3, 3, 2, 2, 2, 3, 0, 3, 3, 3, 3, 0, 2, 2, 3, 2, 2, 3, 2,\n",
              "       3, 3, 0, 3, 3, 3, 0, 3, 2, 2, 2, 3, 0, 2, 3, 2, 3, 3, 2, 1, 0, 2,\n",
              "       0, 2, 2, 3, 2, 2, 2, 0, 2, 2, 2, 2, 0, 2, 2, 3, 2, 2, 2, 0, 2, 2,\n",
              "       3, 3, 2, 3, 3, 2, 2, 0, 3, 3, 0, 2, 2, 2, 2, 3, 2, 2, 2, 2, 2, 3,\n",
              "       2, 3, 0, 2, 2, 2, 2, 2, 3, 3, 3, 0, 3, 2, 0, 0, 2, 0, 2, 3, 3, 0,\n",
              "       1, 3, 2, 2, 2, 3, 3, 3, 2, 2, 2, 2, 3, 0, 2, 3, 0, 2, 2, 3, 3, 0,\n",
              "       2, 0, 3, 2, 0, 3, 3, 2, 0, 0, 2, 2, 0, 3, 0, 2, 2, 2, 2, 3, 0, 2,\n",
              "       2, 2, 3, 2, 3, 2, 1, 2, 3, 3, 0, 0, 2, 2, 2, 2, 0, 3, 3, 0, 2, 3,\n",
              "       2, 2, 2, 0, 2, 2, 3, 3, 2, 3, 2, 2, 2, 2, 3, 3, 3, 3, 0, 3, 2, 3,\n",
              "       3, 3, 2, 3, 2, 2, 3, 2, 3, 2, 3, 2, 2, 2, 2, 3, 3, 2, 3, 3, 2, 3,\n",
              "       3, 3, 2, 0, 0, 2, 0, 3, 0, 2, 3, 0, 3, 3, 2, 2, 3, 3, 2, 2, 0, 2,\n",
              "       3, 3, 3, 2, 0, 2, 3, 3, 0, 2, 0, 3, 2, 2, 2, 3, 2, 0, 2, 3, 0, 0,\n",
              "       3, 2, 2, 3, 0, 2, 0, 0, 2, 3, 3, 2, 2, 3, 3, 3, 3, 3, 0, 3, 3, 3,\n",
              "       3, 2, 3, 3, 2, 0, 2, 2, 3, 0, 2, 3, 2, 3, 2, 3, 3, 2, 3, 3, 3, 0,\n",
              "       2, 2, 3, 2, 1, 2, 2, 2, 3, 2, 2, 2, 2, 0, 2, 0, 3, 2, 2, 2, 0, 3,\n",
              "       0, 3, 0, 3, 3, 2, 3, 2, 0, 2, 2, 2, 3, 0, 3, 2, 0, 3, 0, 2, 0, 3,\n",
              "       3, 3, 2, 2, 2, 0, 3, 3, 2, 0, 2, 2, 3, 0, 3, 2, 2, 3, 3, 3, 2, 3,\n",
              "       0, 3, 0, 0, 3, 3, 3, 3, 2], dtype=int32)"
            ]
          },
          "metadata": {},
          "execution_count": 78
        }
      ]
    },
    {
      "cell_type": "code",
      "source": [
        "plt.scatter(X[y_kmeans == 0, 0], X[y_kmeans == 0, 1], s = 100, c = 'red', label = 'Cluster 1')\n",
        "plt.scatter(X[y_kmeans == 1, 0], X[y_kmeans == 1, 1], s = 100, c = 'blue', label = 'Cluster 2')\n",
        "plt.scatter(X[y_kmeans == 2, 0], X[y_kmeans == 2, 1], s = 100, c = 'green', label = 'Cluster 3')\n",
        "plt.scatter(X[y_kmeans == 3, 0], X[y_kmeans == 3, 1], s = 100, c = 'cyan', label = 'Cluster 4')\n",
        "plt.scatter(kmeans.cluster_centers_[:, 0], kmeans.cluster_centers_[:, 1], s = 300, c = 'yellow', label = 'Centroids')\n",
        "plt.title('Clusters of customers')\n",
        "plt.xlabel('Income')\n",
        "plt.ylabel('City')\n",
        "plt.legend()\n",
        "plt.show()"
      ],
      "metadata": {
        "colab": {
          "base_uri": "https://localhost:8080/",
          "height": 472
        },
        "id": "SrUle3G8fNdB",
        "outputId": "4827a076-45a0-4365-9250-0cfa9246665c"
      },
      "execution_count": null,
      "outputs": [
        {
          "output_type": "display_data",
          "data": {
            "text/plain": [
              "<Figure size 640x480 with 1 Axes>"
            ],
            "image/png": "[encoded data removed]"
          },
          "metadata": {}
        }
      ]
    },
    {
      "cell_type": "code",
      "source": [
        "ev_data_3['ClusterLabel'] = y_kmeans+1"
      ],
      "metadata": {
        "id": "KeGPXAEOfQdY"
      },
      "execution_count": null,
      "outputs": []
    },
    {
      "cell_type": "code",
      "source": [
        "#Principal Component Analysis (PCA)"
      ],
      "metadata": {
        "id": "87gUgCohfYFB"
      },
      "execution_count": null,
      "outputs": []
    },
    {
      "cell_type": "code",
      "source": [
        "from sklearn.model_selection import train_test_split\n",
        "from sklearn.decomposition import PCA\n",
        "from sklearn.preprocessing import StandardScaler\n",
        "from sklearn.cluster import KMeans"
      ],
      "metadata": {
        "id": "LzknbvcYcIJS"
      },
      "execution_count": null,
      "outputs": []
    },
    {
      "cell_type": "code",
      "source": [
        "X = ev_data_3.iloc[:, :-1].values\n",
        "y = ev_data_3.iloc[:, -1].values"
      ],
      "metadata": {
        "id": "8PBPe26pffqE"
      },
      "execution_count": null,
      "outputs": []
    },
    {
      "cell_type": "code",
      "source": [
        "X_train, X_test, y_train, y_test = train_test_split(X, y, test_size = 0.2, random_state = 0)"
      ],
      "metadata": {
        "id": "RUnhiIlOfeuu"
      },
      "execution_count": null,
      "outputs": []
    },
    {
      "cell_type": "code",
      "source": [
        "sc = StandardScaler()\n",
        "X_train = sc.fit_transform(X_train)\n",
        "X_test = sc.transform(X_test)"
      ],
      "metadata": {
        "id": "qsP6Se7QfuNJ"
      },
      "execution_count": null,
      "outputs": []
    },
    {
      "cell_type": "code",
      "source": [
        "pca = PCA(n_components = 2)\n",
        "X_train = pca.fit_transform(X_train)\n",
        "X_test = pca.transform(X_test)"
      ],
      "metadata": {
        "id": "-0yf7y8qfwts"
      },
      "execution_count": null,
      "outputs": []
    },
    {
      "cell_type": "code",
      "source": [
        "from sklearn.linear_model import LogisticRegression\n",
        "classifier = LogisticRegression(random_state = 0)\n",
        "classifier.fit(X_train, y_train)"
      ],
      "metadata": {
        "colab": {
          "base_uri": "https://localhost:8080/",
          "height": 75
        },
        "id": "A-iVweX9gYyP",
        "outputId": "eb9ded1a-e7c8-482c-cb22-91a7b094b5fb"
      },
      "execution_count": null,
      "outputs": [
        {
          "output_type": "execute_result",
          "data": {
            "text/plain": [
              "LogisticRegression(random_state=0)"
            ],
            "text/html": [
              "<style>#sk-container-id-1 {color: black;background-color: white;}#sk-container-id-1 pre{padding: 0;}#sk-container-id-1 div.sk-toggleable {background-color: white;}#sk-container-id-1 label.sk-toggleable__label {cursor: pointer;display: block;width: 100%;margin-bottom: 0;padding: 0.3em;box-sizing: border-box;text-align: center;}#sk-container-id-1 label.sk-toggleable__label-arrow:before {content: \"▸\";float: left;margin-right: 0.25em;color: #696969;}#sk-container-id-1 label.sk-toggleable__label-arrow:hover:before {color: black;}#sk-container-id-1 div.sk-estimator:hover label.sk-toggleable__label-arrow:before {color: black;}#sk-container-id-1 div.sk-toggleable__content {max-height: 0;max-width: 0;overflow: hidden;text-align: left;background-color: #f0f8ff;}#sk-container-id-1 div.sk-toggleable__content pre {margin: 0.2em;color: black;border-radius: 0.25em;background-color: #f0f8ff;}#sk-container-id-1 input.sk-toggleable__control:checked~div.sk-toggleable__content {max-height: 200px;max-width: 100%;overflow: auto;}#sk-container-id-1 input.sk-toggleable__control:checked~label.sk-toggleable__label-arrow:before {content: \"▾\";}#sk-container-id-1 div.sk-estimator input.sk-toggleable__control:checked~label.sk-toggleable__label {background-color: #d4ebff;}#sk-container-id-1 div.sk-label input.sk-toggleable__control:checked~label.sk-toggleable__label {background-color: #d4ebff;}#sk-container-id-1 input.sk-hidden--visually {border: 0;clip: rect(1px 1px 1px 1px);clip: rect(1px, 1px, 1px, 1px);height: 1px;margin: -1px;overflow: hidden;padding: 0;position: absolute;width: 1px;}#sk-container-id-1 div.sk-estimator {font-family: monospace;background-color: #f0f8ff;border: 1px dotted black;border-radius: 0.25em;box-sizing: border-box;margin-bottom: 0.5em;}#sk-container-id-1 div.sk-estimator:hover {background-color: #d4ebff;}#sk-container-id-1 div.sk-parallel-item::after {content: \"\";width: 100%;border-bottom: 1px solid gray;flex-grow: 1;}#sk-container-id-1 div.sk-label:hover label.sk-toggleable__label {background-color: #d4ebff;}#sk-container-id-1 div.sk-serial::before {content: \"\";position: absolute;border-left: 1px solid gray;box-sizing: border-box;top: 0;bottom: 0;left: 50%;z-index: 0;}#sk-container-id-1 div.sk-serial {display: flex;flex-direction: column;align-items: center;background-color: white;padding-right: 0.2em;padding-left: 0.2em;position: relative;}#sk-container-id-1 div.sk-item {position: relative;z-index: 1;}#sk-container-id-1 div.sk-parallel {display: flex;align-items: stretch;justify-content: center;background-color: white;position: relative;}#sk-container-id-1 div.sk-item::before, #sk-container-id-1 div.sk-parallel-item::before {content: \"\";position: absolute;border-left: 1px solid gray;box-sizing: border-box;top: 0;bottom: 0;left: 50%;z-index: -1;}#sk-container-id-1 div.sk-parallel-item {display: flex;flex-direction: column;z-index: 1;position: relative;background-color: white;}#sk-container-id-1 div.sk-parallel-item:first-child::after {align-self: flex-end;width: 50%;}#sk-container-id-1 div.sk-parallel-item:last-child::after {align-self: flex-start;width: 50%;}#sk-container-id-1 div.sk-parallel-item:only-child::after {width: 0;}#sk-container-id-1 div.sk-dashed-wrapped {border: 1px dashed gray;margin: 0 0.4em 0.5em 0.4em;box-sizing: border-box;padding-bottom: 0.4em;background-color: white;}#sk-container-id-1 div.sk-label label {font-family: monospace;font-weight: bold;display: inline-block;line-height: 1.2em;}#sk-container-id-1 div.sk-label-container {text-align: center;}#sk-container-id-1 div.sk-container {/* jupyter's `normalize.less` sets `[hidden] { display: none; }` but bootstrap.min.css set `[hidden] { display: none !important; }` so we also need the `!important` here to be able to override the default hidden behavior on the sphinx rendered scikit-learn.org. See: https://github.com/scikit-learn/scikit-learn/issues/21755 */display: inline-block !important;position: relative;}#sk-container-id-1 div.sk-text-repr-fallback {display: none;}</style><div id=\"sk-container-id-1\" class=\"sk-top-container\"><div class=\"sk-text-repr-fallback\"><pre>LogisticRegression(random_state=0)</pre><b>In a Jupyter environment, please rerun this cell to show the HTML representation or trust the notebook. <br />On GitHub, the HTML representation is unable to render, please try loading this page with nbviewer.org.</b></div><div class=\"sk-container\" hidden><div class=\"sk-item\"><div class=\"sk-estimator sk-toggleable\"><input class=\"sk-toggleable__control sk-hidden--visually\" id=\"sk-estimator-id-1\" type=\"checkbox\" checked><label for=\"sk-estimator-id-1\" class=\"sk-toggleable__label sk-toggleable__label-arrow\">LogisticRegression</label><div class=\"sk-toggleable__content\"><pre>LogisticRegression(random_state=0)</pre></div></div></div></div></div>"
            ]
          },
          "metadata": {},
          "execution_count": 88
        }
      ]
    },
    {
      "cell_type": "code",
      "source": [
        "from sklearn.metrics import confusion_matrix, accuracy_score\n",
        "y_pred = classifier.predict(X_test)\n",
        "cm = confusion_matrix(y_test, y_pred)\n",
        "print(cm)\n",
        "accuracy_score(y_test, y_pred)"
      ],
      "metadata": {
        "colab": {
          "base_uri": "https://localhost:8080/"
        },
        "id": "aW-8Ps9IgeQd",
        "outputId": "2a1f84f7-b2ba-4270-ef54-d40fe513ce09"
      },
      "execution_count": null,
      "outputs": [
        {
          "output_type": "stream",
          "name": "stdout",
          "text": [
            "[[ 0  0 34 14]\n",
            " [ 0  0  2  0]\n",
            " [ 0  0 63 18]\n",
            " [ 0  0 59 10]]\n"
          ]
        },
        {
          "output_type": "execute_result",
          "data": {
            "text/plain": [
              "0.365"
            ]
          },
          "metadata": {},
          "execution_count": 89
        }
      ]
    },
    {
      "cell_type": "code",
      "source": [
        "from sklearn.metrics import confusion_matrix, accuracy_score\n",
        "y_pred = classifier.predict(X_train)\n",
        "print(confusion_matrix(y_train, y_pred))\n",
        "accuracy_score(y_train, y_pred)"
      ],
      "metadata": {
        "colab": {
          "base_uri": "https://localhost:8080/"
        },
        "id": "6LwAQQ7pgg9X",
        "outputId": "065a5df9-43e9-4c82-82ac-992701e8bd9a"
      },
      "execution_count": null,
      "outputs": [
        {
          "output_type": "stream",
          "name": "stdout",
          "text": [
            "[[  0   0 114  33]\n",
            " [  0   0   5   0]\n",
            " [  0   0 286  63]\n",
            " [  0   0 222  76]]\n"
          ]
        },
        {
          "output_type": "execute_result",
          "data": {
            "text/plain": [
              "0.4530663329161452"
            ]
          },
          "metadata": {},
          "execution_count": 90
        }
      ]
    },
    {
      "cell_type": "code",
      "source": [
        "from matplotlib.colors import ListedColormap\n",
        "X_set, y_set = X_train, y_train\n",
        "X1, X2 = np.meshgrid(np.arange(start = X_set[:, 0].min() - 1, stop = X_set[:, 0].max() + 1, step = 0.01),\n",
        "                     np.arange(start = X_set[:, 1].min() - 1, stop = X_set[:, 1].max() + 1, step = 0.01))\n",
        "plt.contourf(X1, X2, classifier.predict(np.array([X1.ravel(), X2.ravel()]).T).reshape(X1.shape),\n",
        "             alpha = 0.75, cmap = ListedColormap(('red', 'green', 'blue')))\n",
        "plt.xlim(X1.min(), X1.max())\n",
        "plt.ylim(X2.min(), X2.max())\n",
        "for i, j in enumerate(np.unique(y_set)):\n",
        "    plt.scatter(X_set[y_set == j, 0], X_set[y_set == j, 1],\n",
        "                c = ListedColormap(('red', 'green', 'blue'))(i), label = j)\n",
        "plt.title('Logistic Regression (Training set)')\n",
        "plt.xlabel('PC1')\n",
        "plt.ylabel('PC2')\n",
        "plt.legend()\n",
        "plt.show()"
      ],
      "metadata": {
        "colab": {
          "base_uri": "https://localhost:8080/",
          "height": 527
        },
        "id": "WMQvbH8Pgj-F",
        "outputId": "b684fc47-4e1b-4a42-a2f4-2aca926fb0c9"
      },
      "execution_count": null,
      "outputs": [
        {
          "output_type": "stream",
          "name": "stderr",
          "text": [
            "<ipython-input-91-97c5a7ed0f37>:10: UserWarning: *c* argument looks like a single numeric RGB or RGBA sequence, which should be avoided as value-mapping will have precedence in case its length matches with *x* & *y*.  Please use the *color* keyword-argument or provide a 2D array with a single row if you intend to specify the same RGB or RGBA value for all points.\n",
            "  plt.scatter(X_set[y_set == j, 0], X_set[y_set == j, 1],\n"
          ]
        },
        {
          "output_type": "display_data",
          "data": {
            "text/plain": [
              "<Figure size 640x480 with 1 Axes>"
            ],
            "image/png": "[encoded data removed]"
          },
          "metadata": {}
        }
      ]
    },
    {
      "cell_type": "code",
      "source": [
        "from matplotlib.colors import ListedColormap\n",
        "X_set, y_set = X_test, y_test\n",
        "X1, X2 = np.meshgrid(np.arange(start = X_set[:, 0].min() - 1, stop = X_set[:, 0].max() + 1, step = 0.01),\n",
        "                     np.arange(start = X_set[:, 1].min() - 1, stop = X_set[:, 1].max() + 1, step = 0.01))\n",
        "plt.contourf(X1, X2, classifier.predict(np.array([X1.ravel(), X2.ravel()]).T).reshape(X1.shape),\n",
        "             alpha = 0.75, cmap = ListedColormap(('red', 'green', 'blue')))\n",
        "plt.xlim(X1.min(), X1.max())\n",
        "plt.ylim(X2.min(), X2.max())\n",
        "for i, j in enumerate(np.unique(y_set)):\n",
        "    plt.scatter(X_set[y_set == j, 0], X_set[y_set == j, 1],\n",
        "                c = ListedColormap(('red', 'green', 'blue'))(i), label = j)\n",
        "plt.title('Logistic Regression (Test set)')\n",
        "plt.xlabel('PC1')\n",
        "plt.ylabel('PC2')\n",
        "plt.legend()\n",
        "plt.show()"
      ],
      "metadata": {
        "colab": {
          "base_uri": "https://localhost:8080/",
          "height": 527
        },
        "id": "S_dHdKzmgnRm",
        "outputId": "9adcc61b-69f1-4bbb-fe06-35487ddaf0a2"
      },
      "execution_count": null,
      "outputs": [
        {
          "output_type": "stream",
          "name": "stderr",
          "text": [
            "<ipython-input-92-dcbaaf9cb35d>:10: UserWarning: *c* argument looks like a single numeric RGB or RGBA sequence, which should be avoided as value-mapping will have precedence in case its length matches with *x* & *y*.  Please use the *color* keyword-argument or provide a 2D array with a single row if you intend to specify the same RGB or RGBA value for all points.\n",
            "  plt.scatter(X_set[y_set == j, 0], X_set[y_set == j, 1],\n"
          ]
        },
        {
          "output_type": "display_data",
          "data": {
            "text/plain": [
              "<Figure size 640x480 with 1 Axes>"
            ],
            "image/png": "[encoded data removed]"
          },
          "metadata": {}
        }
      ]
    },
    {
      "cell_type": "code",
      "source": [],
      "metadata": {
        "id": "mh4j9nmjgww5"
      },
      "execution_count": null,
      "outputs": []
    }
  ]
}